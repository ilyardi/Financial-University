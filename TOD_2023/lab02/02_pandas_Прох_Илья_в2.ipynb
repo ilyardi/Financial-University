{
  "cells": [
    {
      "cell_type": "markdown",
      "metadata": {
        "id": "oyIs6CSCAst5"
      },
      "source": [
        "# Pandas"
      ]
    },
    {
      "cell_type": "markdown",
      "metadata": {
        "id": "QY_Ubw-7Ast7"
      },
      "source": [
        "Материалы:\n",
        "* Макрушин С.В. \"Лекция 2: Библиотека Pandas\"\n",
        "* https://pandas.pydata.org/docs/user_guide/index.html#\n",
        "* https://pandas.pydata.org/docs/reference/index.html\n",
        "* Уэс Маккини. Python и анализ данных"
      ]
    },
    {
      "cell_type": "markdown",
      "metadata": {
        "id": "w_q6ZGy_Ast8"
      },
      "source": [
        "## Задачи для совместного разбора"
      ]
    },
    {
      "cell_type": "markdown",
      "metadata": {
        "id": "ROH30Xw9Ast9"
      },
      "source": [
        "1. Загрузите данные из файла `sp500hst.txt` и обозначьте столбцы в соответствии с содержимым: `\"date\", \"ticker\", \"open\", \"high\", \"low\", \"close\", \"volume\"`."
      ]
    },
    {
      "cell_type": "markdown",
      "metadata": {
        "id": "x11t1BZxAst9"
      },
      "source": [
        "2. Рассчитайте среднее значение показателей для каждого из столбцов c номерами 3-6."
      ]
    },
    {
      "cell_type": "markdown",
      "metadata": {
        "id": "VuDyfCi9Ast-"
      },
      "source": [
        "3. Добавьте столбец, содержащий только число месяца, к которому относится дата."
      ]
    },
    {
      "cell_type": "markdown",
      "metadata": {
        "id": "xT5ZC4MvAst-"
      },
      "source": [
        "4. Рассчитайте суммарный объем торгов для для одинаковых значений тикеров."
      ]
    },
    {
      "cell_type": "markdown",
      "metadata": {
        "id": "fZLv3tB4Ast-"
      },
      "source": [
        "5. Загрузите данные из файла sp500hst.txt и обозначьте столбцы в соответствии с содержимым: \"date\", \"ticker\", \"open\", \"high\", \"low\", \"close\", \"volume\". Добавьте столбец с расшифровкой названия тикера, используя данные из файла `sp_data2.csv` . В случае нехватки данных об именах тикеров корректно обработать их."
      ]
    },
    {
      "cell_type": "markdown",
      "metadata": {
        "id": "vceoQ_NSAst_"
      },
      "source": [
        "## Лабораторная работа №2"
      ]
    },
    {
      "cell_type": "markdown",
      "metadata": {
        "id": "HgwrI1y8Ast_"
      },
      "source": [
        "### Базовые операции с `DataFrame`"
      ]
    },
    {
      "cell_type": "code",
      "source": [
        "!pip install pandas"
      ],
      "metadata": {
        "id": "AL92KFtmBTP9"
      },
      "execution_count": 15,
      "outputs": []
    },
    {
      "cell_type": "code",
      "source": [
        "import pandas as pd"
      ],
      "metadata": {
        "id": "bq38_rj_BW_l"
      },
      "execution_count": 2,
      "outputs": []
    },
    {
      "cell_type": "markdown",
      "metadata": {
        "id": "sEDxXTmVAsuA"
      },
      "source": [
        "1.1 В файлах `recipes_sample.csv` и `reviews_sample.csv` находится информация об рецептах блюд и отзывах на эти рецепты соответственно. Загрузите данные из файлов в виде `pd.DataFrame` с названиями `recipes` и `reviews`. Обратите внимание на корректное считывание столбца с индексами в таблице `reviews` (безымянный столбец)."
      ]
    },
    {
      "cell_type": "code",
      "source": [
        "recipes = pd.read_csv('data/recipes_sample.csv')\n",
        "reviews = pd.read_csv('data/reviews_sample.csv', index_col=0)"
      ],
      "metadata": {
        "id": "MQfv-Vt5BSBm"
      },
      "execution_count": 16,
      "outputs": []
    },
    {
      "cell_type": "markdown",
      "metadata": {
        "id": "-tL2Ar6cAsuA"
      },
      "source": [
        "1.2 Для каждой из таблиц выведите основные параметры:\n",
        "* количество точек данных (строк);\n",
        "* количество столбцов;\n",
        "* тип данных каждого столбца."
      ]
    },
    {
      "cell_type": "code",
      "source": [
        "print(\"Recipes:\")\n",
        "print('Количество строк:', recipes.shape[0])\n",
        "print('Количество столбцов:', recipes.shape[1])\n",
        "print('Тип данных каждого столбца:\\n', recipes.dtypes)\n",
        "\n",
        "print(\"\\nReviews:\")\n",
        "print('Количество строк:', reviews.shape[0])\n",
        "print('Количество столбцов:', reviews.shape[1])\n",
        "print('Тип данных каждого столбца:\\n', reviews.dtypes)"
      ],
      "metadata": {
        "colab": {
          "base_uri": "https://localhost:8080/"
        },
        "id": "TyM2_NaqDTPj",
        "outputId": "e6d05e4d-2b85-41f2-92cb-27e721751a6c"
      },
      "execution_count": 17,
      "outputs": [
        {
          "output_type": "stream",
          "name": "stdout",
          "text": [
            "Recipes:\n",
            "Количество строк: 30000\n",
            "Количество столбцов: 8\n",
            "Тип данных каждого столбца:\n",
            " name               object\n",
            "id                  int64\n",
            "minutes             int64\n",
            "contributor_id      int64\n",
            "submitted          object\n",
            "n_steps           float64\n",
            "description        object\n",
            "n_ingredients     float64\n",
            "dtype: object\n",
            "\n",
            "Reviews:\n",
            "Количество строк: 126696\n",
            "Количество столбцов: 5\n",
            "Тип данных каждого столбца:\n",
            " user_id       int64\n",
            "recipe_id     int64\n",
            "date         object\n",
            "rating        int64\n",
            "review       object\n",
            "dtype: object\n"
          ]
        }
      ]
    },
    {
      "cell_type": "markdown",
      "metadata": {
        "id": "3HoZif9-AsuB"
      },
      "source": [
        "1.3 Исследуйте, в каких столбцах таблиц содержатся пропуски. Посчитайте долю строк, содержащих пропуски, в отношении к общему количеству строк."
      ]
    },
    {
      "cell_type": "code",
      "source": [
        "print(\"Recipes:\")\n",
        "columns_with_missing = list(recipes.columns[recipes.isnull().any()])\n",
        "print(\"Столбцы с пропусками:\", columns_with_missing) # any() - есть ли хотя бы один пропущенный элемент в столбце\n",
        "missing_proportion = recipes.isnull().any(axis=1).mean() \n",
        "print(\"Доля строк, содержащих пропуски:\", missing_proportion)\n",
        "\n",
        "print(\"\\nReviews:\")\n",
        "columns_with_missing = list(reviews.columns[reviews.isnull().any()])\n",
        "print(\"Столбцы с пропусками:\", columns_with_missing) \n",
        "missing_proportion = reviews.isnull().any(axis=1).mean() \n",
        "print(\"Доля строк, содержащих пропуски:\", missing_proportion)\n"
      ],
      "metadata": {
        "colab": {
          "base_uri": "https://localhost:8080/"
        },
        "id": "O2FaIkKxFE_2",
        "outputId": "8850c445-b1dc-4420-fe05-31c4ec4feb56"
      },
      "execution_count": 18,
      "outputs": [
        {
          "output_type": "stream",
          "name": "stdout",
          "text": [
            "Recipes:\n",
            "Столбцы с пропусками: ['n_steps', 'description', 'n_ingredients']\n",
            "Доля строк, содержащих пропуски: 0.5684666666666667\n",
            "\n",
            "Reviews:\n",
            "Столбцы с пропусками: ['review']\n",
            "Доля строк, содержащих пропуски: 0.00013417945317926376\n"
          ]
        }
      ]
    },
    {
      "cell_type": "markdown",
      "metadata": {
        "id": "rIGn_fvHAsuB"
      },
      "source": [
        "1.4 Рассчитайте среднее значение для каждого из числовых столбцов (где это имеет смысл)."
      ]
    },
    {
      "cell_type": "code",
      "source": [
        "print(\"Среднее значение для каждого числового столбца в recipes:\")\n",
        "for column in recipes.select_dtypes(include=[float, int]):\n",
        "    print(column, \":\",  round(recipes[column].mean(), 2))\n",
        "\n",
        "print(\"\\nСреднее значение для каждого числового столбца в reviews:\")\n",
        "for column in reviews.select_dtypes(include=[float, int]):\n",
        "    print(column, \":\", round(reviews[column].mean(), 2))"
      ],
      "metadata": {
        "colab": {
          "base_uri": "https://localhost:8080/"
        },
        "id": "nYhojNKiJtBa",
        "outputId": "59a95b7e-4b73-4184-f5b6-5f0ce2c00165"
      },
      "execution_count": 19,
      "outputs": [
        {
          "output_type": "stream",
          "name": "stdout",
          "text": [
            "Среднее значение для каждого числового столбца в recipes:\n",
            "id : 221879.29\n",
            "minutes : 123.36\n",
            "contributor_id : 5635900.57\n",
            "n_steps : 9.81\n",
            "n_ingredients : 9.01\n",
            "\n",
            "Среднее значение для каждого числового столбца в reviews:\n",
            "user_id : 140801264.74\n",
            "recipe_id : 160094.39\n",
            "rating : 4.41\n"
          ]
        }
      ]
    },
    {
      "cell_type": "markdown",
      "metadata": {
        "id": "9gt9iu4OAsuC"
      },
      "source": [
        "1.5 Создайте серию из 10 случайных названий рецептов."
      ]
    },
    {
      "cell_type": "code",
      "source": [
        "import random\n",
        "\n",
        "random_ind = random.sample(range(len(recipes)), 10)\n",
        "random_titles = recipes.loc[random_ind, 'name']\n",
        "print(random_titles)"
      ],
      "metadata": {
        "colab": {
          "base_uri": "https://localhost:8080/"
        },
        "id": "EwgR6tjgLgYB",
        "outputId": "5e89b775-9ea3-4229-f1a1-8707591b18b4"
      },
      "execution_count": 155,
      "outputs": [
        {
          "output_type": "execute_result",
          "data": {
            "text/plain": [
              "18788                              Non Alcoholic Champagne\n",
              "29466                              Wine Meatball Appetizer\n",
              "5780            Chicken Fricassee With Lemon Mustard Sauce\n",
              "14290           Huevos Y Chilaquiles   Eggs With Tortillas\n",
              "17472                     Mexican Chocolate Pumpkin Mousse\n",
              "4652     Caramel Frosted Pumpkin Cookies With Buttersco...\n",
              "22074                       Radish Sprout And Lentil Salad\n",
              "14997                                         Jicama Chips\n",
              "7233                                      Coca A Cola Cake\n",
              "15884                                        Lemon Filling\n",
              "Name: name, dtype: object"
            ]
          },
          "metadata": {},
          "execution_count": 155
        }
      ]
    },
    {
      "cell_type": "markdown",
      "metadata": {
        "id": "ME1Sfq_SAsuC"
      },
      "source": [
        "1.6 Измените индекс в таблице `reviews`, пронумеровав строки, начиная с нуля."
      ]
    },
    {
      "cell_type": "code",
      "source": [
        "# Создание нового столбца \"index\" со значениями от 0 до n-1\n",
        "reviews['index'] = range(len(reviews))\n",
        "\n",
        "# Установка столбца \"index\" в качестве индекса\n",
        "reviews = reviews.set_index('index')\n",
        "\n",
        "reviews.head()"
      ],
      "metadata": {
        "colab": {
          "base_uri": "https://localhost:8080/",
          "height": 260
        },
        "id": "OaX0HoW8NDFn",
        "outputId": "699a39dc-5091-41f6-b290-5932e3cdd7f8"
      },
      "execution_count": 154,
      "outputs": [
        {
          "output_type": "execute_result",
          "data": {
            "text/plain": [
              "          user_id  recipe_id        date  rating  \\\n",
              "index                                              \n",
              "0           21752      57993  2003-05-01       5   \n",
              "1          431813     142201  2007-09-16       5   \n",
              "2          400708     252013  2008-01-10       4   \n",
              "3      2001852463     404716  2017-12-11       5   \n",
              "4           95810     129396  2008-03-14       5   \n",
              "\n",
              "                                                  review  \n",
              "index                                                     \n",
              "0      Last week whole sides of frozen salmon fillet ...  \n",
              "1      So simple and so tasty!  I used a yellow capsi...  \n",
              "2      Very nice breakfast HH, easy to make and yummy...  \n",
              "3      These are a favorite for the holidays and so e...  \n",
              "4      Excellent soup!  The tomato flavor is just gre...  "
            ],
            "text/html": [
              "\n",
              "  <div id=\"df-53a2429f-01da-4f12-9783-5c909bdcf219\">\n",
              "    <div class=\"colab-df-container\">\n",
              "      <div>\n",
              "<style scoped>\n",
              "    .dataframe tbody tr th:only-of-type {\n",
              "        vertical-align: middle;\n",
              "    }\n",
              "\n",
              "    .dataframe tbody tr th {\n",
              "        vertical-align: top;\n",
              "    }\n",
              "\n",
              "    .dataframe thead th {\n",
              "        text-align: right;\n",
              "    }\n",
              "</style>\n",
              "<table border=\"1\" class=\"dataframe\">\n",
              "  <thead>\n",
              "    <tr style=\"text-align: right;\">\n",
              "      <th></th>\n",
              "      <th>user_id</th>\n",
              "      <th>recipe_id</th>\n",
              "      <th>date</th>\n",
              "      <th>rating</th>\n",
              "      <th>review</th>\n",
              "    </tr>\n",
              "    <tr>\n",
              "      <th>index</th>\n",
              "      <th></th>\n",
              "      <th></th>\n",
              "      <th></th>\n",
              "      <th></th>\n",
              "      <th></th>\n",
              "    </tr>\n",
              "  </thead>\n",
              "  <tbody>\n",
              "    <tr>\n",
              "      <th>0</th>\n",
              "      <td>21752</td>\n",
              "      <td>57993</td>\n",
              "      <td>2003-05-01</td>\n",
              "      <td>5</td>\n",
              "      <td>Last week whole sides of frozen salmon fillet ...</td>\n",
              "    </tr>\n",
              "    <tr>\n",
              "      <th>1</th>\n",
              "      <td>431813</td>\n",
              "      <td>142201</td>\n",
              "      <td>2007-09-16</td>\n",
              "      <td>5</td>\n",
              "      <td>So simple and so tasty!  I used a yellow capsi...</td>\n",
              "    </tr>\n",
              "    <tr>\n",
              "      <th>2</th>\n",
              "      <td>400708</td>\n",
              "      <td>252013</td>\n",
              "      <td>2008-01-10</td>\n",
              "      <td>4</td>\n",
              "      <td>Very nice breakfast HH, easy to make and yummy...</td>\n",
              "    </tr>\n",
              "    <tr>\n",
              "      <th>3</th>\n",
              "      <td>2001852463</td>\n",
              "      <td>404716</td>\n",
              "      <td>2017-12-11</td>\n",
              "      <td>5</td>\n",
              "      <td>These are a favorite for the holidays and so e...</td>\n",
              "    </tr>\n",
              "    <tr>\n",
              "      <th>4</th>\n",
              "      <td>95810</td>\n",
              "      <td>129396</td>\n",
              "      <td>2008-03-14</td>\n",
              "      <td>5</td>\n",
              "      <td>Excellent soup!  The tomato flavor is just gre...</td>\n",
              "    </tr>\n",
              "  </tbody>\n",
              "</table>\n",
              "</div>\n",
              "      <button class=\"colab-df-convert\" onclick=\"convertToInteractive('df-53a2429f-01da-4f12-9783-5c909bdcf219')\"\n",
              "              title=\"Convert this dataframe to an interactive table.\"\n",
              "              style=\"display:none;\">\n",
              "        \n",
              "  <svg xmlns=\"http://www.w3.org/2000/svg\" height=\"24px\"viewBox=\"0 0 24 24\"\n",
              "       width=\"24px\">\n",
              "    <path d=\"M0 0h24v24H0V0z\" fill=\"none\"/>\n",
              "    <path d=\"M18.56 5.44l.94 2.06.94-2.06 2.06-.94-2.06-.94-.94-2.06-.94 2.06-2.06.94zm-11 1L8.5 8.5l.94-2.06 2.06-.94-2.06-.94L8.5 2.5l-.94 2.06-2.06.94zm10 10l.94 2.06.94-2.06 2.06-.94-2.06-.94-.94-2.06-.94 2.06-2.06.94z\"/><path d=\"M17.41 7.96l-1.37-1.37c-.4-.4-.92-.59-1.43-.59-.52 0-1.04.2-1.43.59L10.3 9.45l-7.72 7.72c-.78.78-.78 2.05 0 2.83L4 21.41c.39.39.9.59 1.41.59.51 0 1.02-.2 1.41-.59l7.78-7.78 2.81-2.81c.8-.78.8-2.07 0-2.86zM5.41 20L4 18.59l7.72-7.72 1.47 1.35L5.41 20z\"/>\n",
              "  </svg>\n",
              "      </button>\n",
              "      \n",
              "  <style>\n",
              "    .colab-df-container {\n",
              "      display:flex;\n",
              "      flex-wrap:wrap;\n",
              "      gap: 12px;\n",
              "    }\n",
              "\n",
              "    .colab-df-convert {\n",
              "      background-color: #E8F0FE;\n",
              "      border: none;\n",
              "      border-radius: 50%;\n",
              "      cursor: pointer;\n",
              "      display: none;\n",
              "      fill: #1967D2;\n",
              "      height: 32px;\n",
              "      padding: 0 0 0 0;\n",
              "      width: 32px;\n",
              "    }\n",
              "\n",
              "    .colab-df-convert:hover {\n",
              "      background-color: #E2EBFA;\n",
              "      box-shadow: 0px 1px 2px rgba(60, 64, 67, 0.3), 0px 1px 3px 1px rgba(60, 64, 67, 0.15);\n",
              "      fill: #174EA6;\n",
              "    }\n",
              "\n",
              "    [theme=dark] .colab-df-convert {\n",
              "      background-color: #3B4455;\n",
              "      fill: #D2E3FC;\n",
              "    }\n",
              "\n",
              "    [theme=dark] .colab-df-convert:hover {\n",
              "      background-color: #434B5C;\n",
              "      box-shadow: 0px 1px 3px 1px rgba(0, 0, 0, 0.15);\n",
              "      filter: drop-shadow(0px 1px 2px rgba(0, 0, 0, 0.3));\n",
              "      fill: #FFFFFF;\n",
              "    }\n",
              "  </style>\n",
              "\n",
              "      <script>\n",
              "        const buttonEl =\n",
              "          document.querySelector('#df-53a2429f-01da-4f12-9783-5c909bdcf219 button.colab-df-convert');\n",
              "        buttonEl.style.display =\n",
              "          google.colab.kernel.accessAllowed ? 'block' : 'none';\n",
              "\n",
              "        async function convertToInteractive(key) {\n",
              "          const element = document.querySelector('#df-53a2429f-01da-4f12-9783-5c909bdcf219');\n",
              "          const dataTable =\n",
              "            await google.colab.kernel.invokeFunction('convertToInteractive',\n",
              "                                                     [key], {});\n",
              "          if (!dataTable) return;\n",
              "\n",
              "          const docLinkHtml = 'Like what you see? Visit the ' +\n",
              "            '<a target=\"_blank\" href=https://colab.research.google.com/notebooks/data_table.ipynb>data table notebook</a>'\n",
              "            + ' to learn more about interactive tables.';\n",
              "          element.innerHTML = '';\n",
              "          dataTable['output_type'] = 'display_data';\n",
              "          await google.colab.output.renderOutput(dataTable, element);\n",
              "          const docLink = document.createElement('div');\n",
              "          docLink.innerHTML = docLinkHtml;\n",
              "          element.appendChild(docLink);\n",
              "        }\n",
              "      </script>\n",
              "    </div>\n",
              "  </div>\n",
              "  "
            ]
          },
          "metadata": {},
          "execution_count": 154
        }
      ]
    },
    {
      "cell_type": "markdown",
      "metadata": {
        "id": "rLvUhMlPAsuD"
      },
      "source": [
        "1.7 Выведите информацию о рецептах, время выполнения которых не больше 20 минут и кол-во ингредиентов в которых не больше 5."
      ]
    },
    {
      "cell_type": "code",
      "source": [
        "recipes.loc[(recipes['minutes'] <= 20) & (recipes['n_ingredients'] <= 5)]"
      ],
      "metadata": {
        "colab": {
          "base_uri": "https://localhost:8080/",
          "height": 1000
        },
        "id": "JCrqsHUjOQ0l",
        "outputId": "a93b85b4-ff61-480e-8d67-493cb617317e"
      },
      "execution_count": 153,
      "outputs": [
        {
          "output_type": "execute_result",
          "data": {
            "text/plain": [
              "                                                    name      id  minutes  \\\n",
              "28                                   Quick Biscuit Bread  302399       20   \n",
              "60                         Peas  Fit For A King Or Queen  303944       20   \n",
              "90                     Hawaiian Sunrise           Mimosa  100837        5   \n",
              "91            Tasty Dish S   Banana Pudding In 2 Minutes  286484        2   \n",
              "94                                    1 Minute Meatballs   11361       13   \n",
              "...                                                  ...     ...      ...   \n",
              "29873  Zip And Steam Red Potatoes With Butter And Garlic  304922       13   \n",
              "29874                          Ziplock Vanilla Ice Cream   74250       10   \n",
              "29905                      Zucchini And Corn With Cheese  256177       15   \n",
              "29980               Zucchini With Jalapeno Monterey Jack  320622       10   \n",
              "29983                          Zucchini With Serrano Ham  162411       15   \n",
              "\n",
              "       contributor_id  submitted  n_steps  \\\n",
              "28             213909 2008-05-06     11.0   \n",
              "60             213909 2008-05-16      NaN   \n",
              "90              58104 2004-09-29      4.0   \n",
              "91              47892 2008-02-13      NaN   \n",
              "94               4470 2001-09-03      NaN   \n",
              "...               ...        ...      ...   \n",
              "29873          724218 2008-05-27      9.0   \n",
              "29874           24386 2003-10-29      8.0   \n",
              "29905          305531 2007-09-29      4.0   \n",
              "29980          305531 2008-08-20      3.0   \n",
              "29983          152500 2006-03-31      6.0   \n",
              "\n",
              "                                             description  n_ingredients  \\\n",
              "28     this is a wonderful quick bread to make as an ...            5.0   \n",
              "60     this recipe is so simple and the flavors are s...            5.0   \n",
              "90     pineapple mimosa was changed to hawaiian sunri...            3.0   \n",
              "91     \"mmmm, i love bananas!\" a --tasty dish-- origi...            4.0   \n",
              "94     this is a real short cut for cooks in a hurry....            2.0   \n",
              "...                                                  ...            ...   \n",
              "29873  i haven't tried this yet, but i am going to so...            5.0   \n",
              "29874  a fun thing for kids to do. may want to use mi...            3.0   \n",
              "29905  from betty crocker fresh spring recipes. i lik...            5.0   \n",
              "29980                                  simple and yummy!            3.0   \n",
              "29983  this dish is from tim malzer, a german chef wh...            5.0   \n",
              "\n",
              "       description_length  name_word_count  \n",
              "28                    117                3  \n",
              "60                    178                7  \n",
              "90                    270                3  \n",
              "91                    116                8  \n",
              "94                    224                3  \n",
              "...                   ...              ...  \n",
              "29873                 183                9  \n",
              "29874                 157                4  \n",
              "29905                 100                5  \n",
              "29980                  17                5  \n",
              "29983                 136                4  \n",
              "\n",
              "[2019 rows x 10 columns]"
            ],
            "text/html": [
              "\n",
              "  <div id=\"df-bff5a0f9-9e8e-41cc-9ec4-ac3934190f67\">\n",
              "    <div class=\"colab-df-container\">\n",
              "      <div>\n",
              "<style scoped>\n",
              "    .dataframe tbody tr th:only-of-type {\n",
              "        vertical-align: middle;\n",
              "    }\n",
              "\n",
              "    .dataframe tbody tr th {\n",
              "        vertical-align: top;\n",
              "    }\n",
              "\n",
              "    .dataframe thead th {\n",
              "        text-align: right;\n",
              "    }\n",
              "</style>\n",
              "<table border=\"1\" class=\"dataframe\">\n",
              "  <thead>\n",
              "    <tr style=\"text-align: right;\">\n",
              "      <th></th>\n",
              "      <th>name</th>\n",
              "      <th>id</th>\n",
              "      <th>minutes</th>\n",
              "      <th>contributor_id</th>\n",
              "      <th>submitted</th>\n",
              "      <th>n_steps</th>\n",
              "      <th>description</th>\n",
              "      <th>n_ingredients</th>\n",
              "      <th>description_length</th>\n",
              "      <th>name_word_count</th>\n",
              "    </tr>\n",
              "  </thead>\n",
              "  <tbody>\n",
              "    <tr>\n",
              "      <th>28</th>\n",
              "      <td>Quick Biscuit Bread</td>\n",
              "      <td>302399</td>\n",
              "      <td>20</td>\n",
              "      <td>213909</td>\n",
              "      <td>2008-05-06</td>\n",
              "      <td>11.0</td>\n",
              "      <td>this is a wonderful quick bread to make as an ...</td>\n",
              "      <td>5.0</td>\n",
              "      <td>117</td>\n",
              "      <td>3</td>\n",
              "    </tr>\n",
              "    <tr>\n",
              "      <th>60</th>\n",
              "      <td>Peas  Fit For A King Or Queen</td>\n",
              "      <td>303944</td>\n",
              "      <td>20</td>\n",
              "      <td>213909</td>\n",
              "      <td>2008-05-16</td>\n",
              "      <td>NaN</td>\n",
              "      <td>this recipe is so simple and the flavors are s...</td>\n",
              "      <td>5.0</td>\n",
              "      <td>178</td>\n",
              "      <td>7</td>\n",
              "    </tr>\n",
              "    <tr>\n",
              "      <th>90</th>\n",
              "      <td>Hawaiian Sunrise           Mimosa</td>\n",
              "      <td>100837</td>\n",
              "      <td>5</td>\n",
              "      <td>58104</td>\n",
              "      <td>2004-09-29</td>\n",
              "      <td>4.0</td>\n",
              "      <td>pineapple mimosa was changed to hawaiian sunri...</td>\n",
              "      <td>3.0</td>\n",
              "      <td>270</td>\n",
              "      <td>3</td>\n",
              "    </tr>\n",
              "    <tr>\n",
              "      <th>91</th>\n",
              "      <td>Tasty Dish S   Banana Pudding In 2 Minutes</td>\n",
              "      <td>286484</td>\n",
              "      <td>2</td>\n",
              "      <td>47892</td>\n",
              "      <td>2008-02-13</td>\n",
              "      <td>NaN</td>\n",
              "      <td>\"mmmm, i love bananas!\" a --tasty dish-- origi...</td>\n",
              "      <td>4.0</td>\n",
              "      <td>116</td>\n",
              "      <td>8</td>\n",
              "    </tr>\n",
              "    <tr>\n",
              "      <th>94</th>\n",
              "      <td>1 Minute Meatballs</td>\n",
              "      <td>11361</td>\n",
              "      <td>13</td>\n",
              "      <td>4470</td>\n",
              "      <td>2001-09-03</td>\n",
              "      <td>NaN</td>\n",
              "      <td>this is a real short cut for cooks in a hurry....</td>\n",
              "      <td>2.0</td>\n",
              "      <td>224</td>\n",
              "      <td>3</td>\n",
              "    </tr>\n",
              "    <tr>\n",
              "      <th>...</th>\n",
              "      <td>...</td>\n",
              "      <td>...</td>\n",
              "      <td>...</td>\n",
              "      <td>...</td>\n",
              "      <td>...</td>\n",
              "      <td>...</td>\n",
              "      <td>...</td>\n",
              "      <td>...</td>\n",
              "      <td>...</td>\n",
              "      <td>...</td>\n",
              "    </tr>\n",
              "    <tr>\n",
              "      <th>29873</th>\n",
              "      <td>Zip And Steam Red Potatoes With Butter And Garlic</td>\n",
              "      <td>304922</td>\n",
              "      <td>13</td>\n",
              "      <td>724218</td>\n",
              "      <td>2008-05-27</td>\n",
              "      <td>9.0</td>\n",
              "      <td>i haven't tried this yet, but i am going to so...</td>\n",
              "      <td>5.0</td>\n",
              "      <td>183</td>\n",
              "      <td>9</td>\n",
              "    </tr>\n",
              "    <tr>\n",
              "      <th>29874</th>\n",
              "      <td>Ziplock Vanilla Ice Cream</td>\n",
              "      <td>74250</td>\n",
              "      <td>10</td>\n",
              "      <td>24386</td>\n",
              "      <td>2003-10-29</td>\n",
              "      <td>8.0</td>\n",
              "      <td>a fun thing for kids to do. may want to use mi...</td>\n",
              "      <td>3.0</td>\n",
              "      <td>157</td>\n",
              "      <td>4</td>\n",
              "    </tr>\n",
              "    <tr>\n",
              "      <th>29905</th>\n",
              "      <td>Zucchini And Corn With Cheese</td>\n",
              "      <td>256177</td>\n",
              "      <td>15</td>\n",
              "      <td>305531</td>\n",
              "      <td>2007-09-29</td>\n",
              "      <td>4.0</td>\n",
              "      <td>from betty crocker fresh spring recipes. i lik...</td>\n",
              "      <td>5.0</td>\n",
              "      <td>100</td>\n",
              "      <td>5</td>\n",
              "    </tr>\n",
              "    <tr>\n",
              "      <th>29980</th>\n",
              "      <td>Zucchini With Jalapeno Monterey Jack</td>\n",
              "      <td>320622</td>\n",
              "      <td>10</td>\n",
              "      <td>305531</td>\n",
              "      <td>2008-08-20</td>\n",
              "      <td>3.0</td>\n",
              "      <td>simple and yummy!</td>\n",
              "      <td>3.0</td>\n",
              "      <td>17</td>\n",
              "      <td>5</td>\n",
              "    </tr>\n",
              "    <tr>\n",
              "      <th>29983</th>\n",
              "      <td>Zucchini With Serrano Ham</td>\n",
              "      <td>162411</td>\n",
              "      <td>15</td>\n",
              "      <td>152500</td>\n",
              "      <td>2006-03-31</td>\n",
              "      <td>6.0</td>\n",
              "      <td>this dish is from tim malzer, a german chef wh...</td>\n",
              "      <td>5.0</td>\n",
              "      <td>136</td>\n",
              "      <td>4</td>\n",
              "    </tr>\n",
              "  </tbody>\n",
              "</table>\n",
              "<p>2019 rows × 10 columns</p>\n",
              "</div>\n",
              "      <button class=\"colab-df-convert\" onclick=\"convertToInteractive('df-bff5a0f9-9e8e-41cc-9ec4-ac3934190f67')\"\n",
              "              title=\"Convert this dataframe to an interactive table.\"\n",
              "              style=\"display:none;\">\n",
              "        \n",
              "  <svg xmlns=\"http://www.w3.org/2000/svg\" height=\"24px\"viewBox=\"0 0 24 24\"\n",
              "       width=\"24px\">\n",
              "    <path d=\"M0 0h24v24H0V0z\" fill=\"none\"/>\n",
              "    <path d=\"M18.56 5.44l.94 2.06.94-2.06 2.06-.94-2.06-.94-.94-2.06-.94 2.06-2.06.94zm-11 1L8.5 8.5l.94-2.06 2.06-.94-2.06-.94L8.5 2.5l-.94 2.06-2.06.94zm10 10l.94 2.06.94-2.06 2.06-.94-2.06-.94-.94-2.06-.94 2.06-2.06.94z\"/><path d=\"M17.41 7.96l-1.37-1.37c-.4-.4-.92-.59-1.43-.59-.52 0-1.04.2-1.43.59L10.3 9.45l-7.72 7.72c-.78.78-.78 2.05 0 2.83L4 21.41c.39.39.9.59 1.41.59.51 0 1.02-.2 1.41-.59l7.78-7.78 2.81-2.81c.8-.78.8-2.07 0-2.86zM5.41 20L4 18.59l7.72-7.72 1.47 1.35L5.41 20z\"/>\n",
              "  </svg>\n",
              "      </button>\n",
              "      \n",
              "  <style>\n",
              "    .colab-df-container {\n",
              "      display:flex;\n",
              "      flex-wrap:wrap;\n",
              "      gap: 12px;\n",
              "    }\n",
              "\n",
              "    .colab-df-convert {\n",
              "      background-color: #E8F0FE;\n",
              "      border: none;\n",
              "      border-radius: 50%;\n",
              "      cursor: pointer;\n",
              "      display: none;\n",
              "      fill: #1967D2;\n",
              "      height: 32px;\n",
              "      padding: 0 0 0 0;\n",
              "      width: 32px;\n",
              "    }\n",
              "\n",
              "    .colab-df-convert:hover {\n",
              "      background-color: #E2EBFA;\n",
              "      box-shadow: 0px 1px 2px rgba(60, 64, 67, 0.3), 0px 1px 3px 1px rgba(60, 64, 67, 0.15);\n",
              "      fill: #174EA6;\n",
              "    }\n",
              "\n",
              "    [theme=dark] .colab-df-convert {\n",
              "      background-color: #3B4455;\n",
              "      fill: #D2E3FC;\n",
              "    }\n",
              "\n",
              "    [theme=dark] .colab-df-convert:hover {\n",
              "      background-color: #434B5C;\n",
              "      box-shadow: 0px 1px 3px 1px rgba(0, 0, 0, 0.15);\n",
              "      filter: drop-shadow(0px 1px 2px rgba(0, 0, 0, 0.3));\n",
              "      fill: #FFFFFF;\n",
              "    }\n",
              "  </style>\n",
              "\n",
              "      <script>\n",
              "        const buttonEl =\n",
              "          document.querySelector('#df-bff5a0f9-9e8e-41cc-9ec4-ac3934190f67 button.colab-df-convert');\n",
              "        buttonEl.style.display =\n",
              "          google.colab.kernel.accessAllowed ? 'block' : 'none';\n",
              "\n",
              "        async function convertToInteractive(key) {\n",
              "          const element = document.querySelector('#df-bff5a0f9-9e8e-41cc-9ec4-ac3934190f67');\n",
              "          const dataTable =\n",
              "            await google.colab.kernel.invokeFunction('convertToInteractive',\n",
              "                                                     [key], {});\n",
              "          if (!dataTable) return;\n",
              "\n",
              "          const docLinkHtml = 'Like what you see? Visit the ' +\n",
              "            '<a target=\"_blank\" href=https://colab.research.google.com/notebooks/data_table.ipynb>data table notebook</a>'\n",
              "            + ' to learn more about interactive tables.';\n",
              "          element.innerHTML = '';\n",
              "          dataTable['output_type'] = 'display_data';\n",
              "          await google.colab.output.renderOutput(dataTable, element);\n",
              "          const docLink = document.createElement('div');\n",
              "          docLink.innerHTML = docLinkHtml;\n",
              "          element.appendChild(docLink);\n",
              "        }\n",
              "      </script>\n",
              "    </div>\n",
              "  </div>\n",
              "  "
            ]
          },
          "metadata": {},
          "execution_count": 153
        }
      ]
    },
    {
      "cell_type": "markdown",
      "metadata": {
        "id": "T_5tJEqmAsuD"
      },
      "source": [
        "### Работа с датами в `pandas`"
      ]
    },
    {
      "cell_type": "markdown",
      "metadata": {
        "id": "tA5IR5dQAsuD"
      },
      "source": [
        "2.1 Преобразуйте столбец `submitted` из таблицы `recipes` в формат времени. Модифицируйте решение задачи 1.1 так, чтобы считать столбец сразу в нужном формате."
      ]
    },
    {
      "cell_type": "code",
      "source": [
        "# Преобразуйте столбец submitted из таблицы recipes в формат времени.\n",
        "\n",
        "recipes['submitted'] = pd.to_datetime(recipes['submitted'])\n",
        "print(recipes['submitted'].dtype)"
      ],
      "metadata": {
        "colab": {
          "base_uri": "https://localhost:8080/"
        },
        "id": "zCWTpWCl0gTE",
        "outputId": "28be4536-4895-4079-9280-987e3755424e"
      },
      "execution_count": 23,
      "outputs": [
        {
          "output_type": "stream",
          "name": "stdout",
          "text": [
            "datetime64[ns]\n"
          ]
        }
      ]
    },
    {
      "cell_type": "code",
      "source": [
        "# Модифицируйте решение задачи 1.1 так, чтобы считать столбец сразу в нужном формате.\n",
        "\n",
        "recipes = pd.read_csv('data/recipes_sample.csv', parse_dates=['submitted'])\n",
        "print(recipes['submitted'].dtypes)"
      ],
      "metadata": {
        "colab": {
          "base_uri": "https://localhost:8080/"
        },
        "id": "oWeTRuk-1yFu",
        "outputId": "6c86156f-db0a-4b4b-bba3-c7fd5c8eed0d"
      },
      "execution_count": 24,
      "outputs": [
        {
          "output_type": "stream",
          "name": "stdout",
          "text": [
            "datetime64[ns]\n"
          ]
        }
      ]
    },
    {
      "cell_type": "markdown",
      "metadata": {
        "id": "8B-St6wuAsuE"
      },
      "source": [
        "2.2 Выведите информацию о рецептах, добавленных в датасет не позже 2010 года."
      ]
    },
    {
      "cell_type": "code",
      "source": [
        "recipes.loc[recipes['submitted'].dt.year <= 2010]"
      ],
      "metadata": {
        "colab": {
          "base_uri": "https://localhost:8080/",
          "height": 1000
        },
        "id": "AYcGWB5v2Xt1",
        "outputId": "173b5e35-8206-4951-ea89-5cc770276f6a"
      },
      "execution_count": 156,
      "outputs": [
        {
          "output_type": "execute_result",
          "data": {
            "text/plain": [
              "                                               name      id  minutes  \\\n",
              "0             George S At The Cove  Black Bean Soup   44123       90   \n",
              "1                Healthy For Them  Yogurt Popsicles   67664       10   \n",
              "2                      I Can T Believe It S Spinach   38798       30   \n",
              "3                              Italian  Gut Busters   35173       45   \n",
              "4          Love Is In The Air  Beef Fondue   Sauces   84797       25   \n",
              "...                                             ...     ...      ...   \n",
              "29993                     Zuni Caf Zucchini Pickles  316950     2895   \n",
              "29995  Zurie S Holey Rustic Olive And Cheddar Bread  267661       80   \n",
              "29996          Zwetschgenkuchen  Bavarian Plum Cake  386977      240   \n",
              "29997   Zwiebelkuchen   Southwest German Onion Cake  103312       75   \n",
              "29999        Cookies By Design   Cookies On A Stick  298512       29   \n",
              "\n",
              "       contributor_id  submitted  n_steps  \\\n",
              "0               35193 2002-10-25      NaN   \n",
              "1               91970 2003-07-26      NaN   \n",
              "2                1533 2002-08-29      NaN   \n",
              "3               22724 2002-07-27      NaN   \n",
              "4                4470 2004-02-23      4.0   \n",
              "...               ...        ...      ...   \n",
              "29993           62264 2008-07-31      NaN   \n",
              "29995          200862 2007-11-25     16.0   \n",
              "29996          177443 2009-08-24      NaN   \n",
              "29997          161745 2004-11-03      NaN   \n",
              "29999          506822 2008-04-15      9.0   \n",
              "\n",
              "                                             description  n_ingredients  \\\n",
              "0      an original recipe created by chef scott meska...           18.0   \n",
              "1      my children and their friends ask for my homem...            NaN   \n",
              "2                these were so go, it surprised even me.            8.0   \n",
              "3      my sister-in-law made these for us at a family...            NaN   \n",
              "4      i think a fondue is a very romantic casual din...            NaN   \n",
              "...                                                  ...            ...   \n",
              "29993  refrigerator pickles for some of the zucchini ...            8.0   \n",
              "29995  this is based on a french recipe but i changed...           10.0   \n",
              "29996  this is a traditional fresh plum cake, thought...           11.0   \n",
              "29997  this is a traditional late summer early fall s...            NaN   \n",
              "29999  i've heard of the 'cookies by design' company,...           10.0   \n",
              "\n",
              "       description_length  name_word_count  \n",
              "0                     330                8  \n",
              "1                     255                5  \n",
              "2                      39                7  \n",
              "3                     154                3  \n",
              "4                     587                8  \n",
              "...                   ...              ...  \n",
              "29993                 298                4  \n",
              "29995                 484                8  \n",
              "29996                 286                4  \n",
              "29997                 311                5  \n",
              "29999                 125                7  \n",
              "\n",
              "[27661 rows x 10 columns]"
            ],
            "text/html": [
              "\n",
              "  <div id=\"df-98513aab-84f6-4f45-9d7f-63511bbeff57\">\n",
              "    <div class=\"colab-df-container\">\n",
              "      <div>\n",
              "<style scoped>\n",
              "    .dataframe tbody tr th:only-of-type {\n",
              "        vertical-align: middle;\n",
              "    }\n",
              "\n",
              "    .dataframe tbody tr th {\n",
              "        vertical-align: top;\n",
              "    }\n",
              "\n",
              "    .dataframe thead th {\n",
              "        text-align: right;\n",
              "    }\n",
              "</style>\n",
              "<table border=\"1\" class=\"dataframe\">\n",
              "  <thead>\n",
              "    <tr style=\"text-align: right;\">\n",
              "      <th></th>\n",
              "      <th>name</th>\n",
              "      <th>id</th>\n",
              "      <th>minutes</th>\n",
              "      <th>contributor_id</th>\n",
              "      <th>submitted</th>\n",
              "      <th>n_steps</th>\n",
              "      <th>description</th>\n",
              "      <th>n_ingredients</th>\n",
              "      <th>description_length</th>\n",
              "      <th>name_word_count</th>\n",
              "    </tr>\n",
              "  </thead>\n",
              "  <tbody>\n",
              "    <tr>\n",
              "      <th>0</th>\n",
              "      <td>George S At The Cove  Black Bean Soup</td>\n",
              "      <td>44123</td>\n",
              "      <td>90</td>\n",
              "      <td>35193</td>\n",
              "      <td>2002-10-25</td>\n",
              "      <td>NaN</td>\n",
              "      <td>an original recipe created by chef scott meska...</td>\n",
              "      <td>18.0</td>\n",
              "      <td>330</td>\n",
              "      <td>8</td>\n",
              "    </tr>\n",
              "    <tr>\n",
              "      <th>1</th>\n",
              "      <td>Healthy For Them  Yogurt Popsicles</td>\n",
              "      <td>67664</td>\n",
              "      <td>10</td>\n",
              "      <td>91970</td>\n",
              "      <td>2003-07-26</td>\n",
              "      <td>NaN</td>\n",
              "      <td>my children and their friends ask for my homem...</td>\n",
              "      <td>NaN</td>\n",
              "      <td>255</td>\n",
              "      <td>5</td>\n",
              "    </tr>\n",
              "    <tr>\n",
              "      <th>2</th>\n",
              "      <td>I Can T Believe It S Spinach</td>\n",
              "      <td>38798</td>\n",
              "      <td>30</td>\n",
              "      <td>1533</td>\n",
              "      <td>2002-08-29</td>\n",
              "      <td>NaN</td>\n",
              "      <td>these were so go, it surprised even me.</td>\n",
              "      <td>8.0</td>\n",
              "      <td>39</td>\n",
              "      <td>7</td>\n",
              "    </tr>\n",
              "    <tr>\n",
              "      <th>3</th>\n",
              "      <td>Italian  Gut Busters</td>\n",
              "      <td>35173</td>\n",
              "      <td>45</td>\n",
              "      <td>22724</td>\n",
              "      <td>2002-07-27</td>\n",
              "      <td>NaN</td>\n",
              "      <td>my sister-in-law made these for us at a family...</td>\n",
              "      <td>NaN</td>\n",
              "      <td>154</td>\n",
              "      <td>3</td>\n",
              "    </tr>\n",
              "    <tr>\n",
              "      <th>4</th>\n",
              "      <td>Love Is In The Air  Beef Fondue   Sauces</td>\n",
              "      <td>84797</td>\n",
              "      <td>25</td>\n",
              "      <td>4470</td>\n",
              "      <td>2004-02-23</td>\n",
              "      <td>4.0</td>\n",
              "      <td>i think a fondue is a very romantic casual din...</td>\n",
              "      <td>NaN</td>\n",
              "      <td>587</td>\n",
              "      <td>8</td>\n",
              "    </tr>\n",
              "    <tr>\n",
              "      <th>...</th>\n",
              "      <td>...</td>\n",
              "      <td>...</td>\n",
              "      <td>...</td>\n",
              "      <td>...</td>\n",
              "      <td>...</td>\n",
              "      <td>...</td>\n",
              "      <td>...</td>\n",
              "      <td>...</td>\n",
              "      <td>...</td>\n",
              "      <td>...</td>\n",
              "    </tr>\n",
              "    <tr>\n",
              "      <th>29993</th>\n",
              "      <td>Zuni Caf Zucchini Pickles</td>\n",
              "      <td>316950</td>\n",
              "      <td>2895</td>\n",
              "      <td>62264</td>\n",
              "      <td>2008-07-31</td>\n",
              "      <td>NaN</td>\n",
              "      <td>refrigerator pickles for some of the zucchini ...</td>\n",
              "      <td>8.0</td>\n",
              "      <td>298</td>\n",
              "      <td>4</td>\n",
              "    </tr>\n",
              "    <tr>\n",
              "      <th>29995</th>\n",
              "      <td>Zurie S Holey Rustic Olive And Cheddar Bread</td>\n",
              "      <td>267661</td>\n",
              "      <td>80</td>\n",
              "      <td>200862</td>\n",
              "      <td>2007-11-25</td>\n",
              "      <td>16.0</td>\n",
              "      <td>this is based on a french recipe but i changed...</td>\n",
              "      <td>10.0</td>\n",
              "      <td>484</td>\n",
              "      <td>8</td>\n",
              "    </tr>\n",
              "    <tr>\n",
              "      <th>29996</th>\n",
              "      <td>Zwetschgenkuchen  Bavarian Plum Cake</td>\n",
              "      <td>386977</td>\n",
              "      <td>240</td>\n",
              "      <td>177443</td>\n",
              "      <td>2009-08-24</td>\n",
              "      <td>NaN</td>\n",
              "      <td>this is a traditional fresh plum cake, thought...</td>\n",
              "      <td>11.0</td>\n",
              "      <td>286</td>\n",
              "      <td>4</td>\n",
              "    </tr>\n",
              "    <tr>\n",
              "      <th>29997</th>\n",
              "      <td>Zwiebelkuchen   Southwest German Onion Cake</td>\n",
              "      <td>103312</td>\n",
              "      <td>75</td>\n",
              "      <td>161745</td>\n",
              "      <td>2004-11-03</td>\n",
              "      <td>NaN</td>\n",
              "      <td>this is a traditional late summer early fall s...</td>\n",
              "      <td>NaN</td>\n",
              "      <td>311</td>\n",
              "      <td>5</td>\n",
              "    </tr>\n",
              "    <tr>\n",
              "      <th>29999</th>\n",
              "      <td>Cookies By Design   Cookies On A Stick</td>\n",
              "      <td>298512</td>\n",
              "      <td>29</td>\n",
              "      <td>506822</td>\n",
              "      <td>2008-04-15</td>\n",
              "      <td>9.0</td>\n",
              "      <td>i've heard of the 'cookies by design' company,...</td>\n",
              "      <td>10.0</td>\n",
              "      <td>125</td>\n",
              "      <td>7</td>\n",
              "    </tr>\n",
              "  </tbody>\n",
              "</table>\n",
              "<p>27661 rows × 10 columns</p>\n",
              "</div>\n",
              "      <button class=\"colab-df-convert\" onclick=\"convertToInteractive('df-98513aab-84f6-4f45-9d7f-63511bbeff57')\"\n",
              "              title=\"Convert this dataframe to an interactive table.\"\n",
              "              style=\"display:none;\">\n",
              "        \n",
              "  <svg xmlns=\"http://www.w3.org/2000/svg\" height=\"24px\"viewBox=\"0 0 24 24\"\n",
              "       width=\"24px\">\n",
              "    <path d=\"M0 0h24v24H0V0z\" fill=\"none\"/>\n",
              "    <path d=\"M18.56 5.44l.94 2.06.94-2.06 2.06-.94-2.06-.94-.94-2.06-.94 2.06-2.06.94zm-11 1L8.5 8.5l.94-2.06 2.06-.94-2.06-.94L8.5 2.5l-.94 2.06-2.06.94zm10 10l.94 2.06.94-2.06 2.06-.94-2.06-.94-.94-2.06-.94 2.06-2.06.94z\"/><path d=\"M17.41 7.96l-1.37-1.37c-.4-.4-.92-.59-1.43-.59-.52 0-1.04.2-1.43.59L10.3 9.45l-7.72 7.72c-.78.78-.78 2.05 0 2.83L4 21.41c.39.39.9.59 1.41.59.51 0 1.02-.2 1.41-.59l7.78-7.78 2.81-2.81c.8-.78.8-2.07 0-2.86zM5.41 20L4 18.59l7.72-7.72 1.47 1.35L5.41 20z\"/>\n",
              "  </svg>\n",
              "      </button>\n",
              "      \n",
              "  <style>\n",
              "    .colab-df-container {\n",
              "      display:flex;\n",
              "      flex-wrap:wrap;\n",
              "      gap: 12px;\n",
              "    }\n",
              "\n",
              "    .colab-df-convert {\n",
              "      background-color: #E8F0FE;\n",
              "      border: none;\n",
              "      border-radius: 50%;\n",
              "      cursor: pointer;\n",
              "      display: none;\n",
              "      fill: #1967D2;\n",
              "      height: 32px;\n",
              "      padding: 0 0 0 0;\n",
              "      width: 32px;\n",
              "    }\n",
              "\n",
              "    .colab-df-convert:hover {\n",
              "      background-color: #E2EBFA;\n",
              "      box-shadow: 0px 1px 2px rgba(60, 64, 67, 0.3), 0px 1px 3px 1px rgba(60, 64, 67, 0.15);\n",
              "      fill: #174EA6;\n",
              "    }\n",
              "\n",
              "    [theme=dark] .colab-df-convert {\n",
              "      background-color: #3B4455;\n",
              "      fill: #D2E3FC;\n",
              "    }\n",
              "\n",
              "    [theme=dark] .colab-df-convert:hover {\n",
              "      background-color: #434B5C;\n",
              "      box-shadow: 0px 1px 3px 1px rgba(0, 0, 0, 0.15);\n",
              "      filter: drop-shadow(0px 1px 2px rgba(0, 0, 0, 0.3));\n",
              "      fill: #FFFFFF;\n",
              "    }\n",
              "  </style>\n",
              "\n",
              "      <script>\n",
              "        const buttonEl =\n",
              "          document.querySelector('#df-98513aab-84f6-4f45-9d7f-63511bbeff57 button.colab-df-convert');\n",
              "        buttonEl.style.display =\n",
              "          google.colab.kernel.accessAllowed ? 'block' : 'none';\n",
              "\n",
              "        async function convertToInteractive(key) {\n",
              "          const element = document.querySelector('#df-98513aab-84f6-4f45-9d7f-63511bbeff57');\n",
              "          const dataTable =\n",
              "            await google.colab.kernel.invokeFunction('convertToInteractive',\n",
              "                                                     [key], {});\n",
              "          if (!dataTable) return;\n",
              "\n",
              "          const docLinkHtml = 'Like what you see? Visit the ' +\n",
              "            '<a target=\"_blank\" href=https://colab.research.google.com/notebooks/data_table.ipynb>data table notebook</a>'\n",
              "            + ' to learn more about interactive tables.';\n",
              "          element.innerHTML = '';\n",
              "          dataTable['output_type'] = 'display_data';\n",
              "          await google.colab.output.renderOutput(dataTable, element);\n",
              "          const docLink = document.createElement('div');\n",
              "          docLink.innerHTML = docLinkHtml;\n",
              "          element.appendChild(docLink);\n",
              "        }\n",
              "      </script>\n",
              "    </div>\n",
              "  </div>\n",
              "  "
            ]
          },
          "metadata": {},
          "execution_count": 156
        }
      ]
    },
    {
      "cell_type": "markdown",
      "metadata": {
        "id": "eRDYr_OQAsuE"
      },
      "source": [
        "### Работа со строковыми данными в `pandas`"
      ]
    },
    {
      "cell_type": "markdown",
      "metadata": {
        "id": "AbC8gEC4AsuE"
      },
      "source": [
        "3.1  Добавьте в таблицу `recipes` столбец `description_length`, в котором хранится длина описания рецепта из столбца `description`."
      ]
    },
    {
      "cell_type": "code",
      "source": [
        "recipes['description'] = recipes['description'].astype(str)\n",
        "recipes['description_length'] = recipes['description'].str.len()\n",
        "print(recipes['description_length'])"
      ],
      "metadata": {
        "colab": {
          "base_uri": "https://localhost:8080/"
        },
        "id": "59kWxz9Q3hNo",
        "outputId": "f943a870-9f3f-46e4-adfd-4086dde806f7"
      },
      "execution_count": 157,
      "outputs": [
        {
          "output_type": "execute_result",
          "data": {
            "text/plain": [
              "0        330\n",
              "1        255\n",
              "2         39\n",
              "3        154\n",
              "4        587\n",
              "        ... \n",
              "29995    484\n",
              "29996    286\n",
              "29997    311\n",
              "29998    648\n",
              "29999    125\n",
              "Name: description_length, Length: 30000, dtype: int64"
            ]
          },
          "metadata": {},
          "execution_count": 157
        }
      ]
    },
    {
      "cell_type": "markdown",
      "metadata": {
        "id": "dySxMOXbAsuF"
      },
      "source": [
        "3.2 Измените название каждого рецепта в таблице `recipes` таким образом, чтобы каждое слово в названии начиналось с прописной буквы."
      ]
    },
    {
      "cell_type": "code",
      "source": [
        "recipes['name'] = recipes['name'].str.title()\n",
        "print(recipes['name'])"
      ],
      "metadata": {
        "colab": {
          "base_uri": "https://localhost:8080/"
        },
        "id": "qDJr44Js5ANp",
        "outputId": "fafa30f6-f60e-4cdc-8e7e-508e778f1be4"
      },
      "execution_count": 27,
      "outputs": [
        {
          "output_type": "stream",
          "name": "stdout",
          "text": [
            "0               George S At The Cove  Black Bean Soup\n",
            "1                  Healthy For Them  Yogurt Popsicles\n",
            "2                        I Can T Believe It S Spinach\n",
            "3                                Italian  Gut Busters\n",
            "4            Love Is In The Air  Beef Fondue   Sauces\n",
            "                             ...                     \n",
            "29995    Zurie S Holey Rustic Olive And Cheddar Bread\n",
            "29996            Zwetschgenkuchen  Bavarian Plum Cake\n",
            "29997     Zwiebelkuchen   Southwest German Onion Cake\n",
            "29998                                     Zydeco Soup\n",
            "29999          Cookies By Design   Cookies On A Stick\n",
            "Name: name, Length: 30000, dtype: object\n"
          ]
        }
      ]
    },
    {
      "cell_type": "markdown",
      "metadata": {
        "id": "Rnj9FC1kAsuF"
      },
      "source": [
        "3.3 Добавьте в таблицу `recipes` столбец `name_word_count`, в котором хранится количество слов из названии рецепта (считайте, что слова в названии разделяются только пробелами). Обратите внимание, что между словами может располагаться несколько пробелов подряд."
      ]
    },
    {
      "cell_type": "code",
      "source": [
        "recipes['name_word_count'] = recipes['name'].str.split().apply(len)\n",
        "print(recipes['name_word_count'])"
      ],
      "metadata": {
        "colab": {
          "base_uri": "https://localhost:8080/"
        },
        "id": "3G2IPWuE7QCp",
        "outputId": "e82aa323-5792-46d6-84c6-fd042faf1260"
      },
      "execution_count": 28,
      "outputs": [
        {
          "output_type": "stream",
          "name": "stdout",
          "text": [
            "0        8\n",
            "1        5\n",
            "2        7\n",
            "3        3\n",
            "4        8\n",
            "        ..\n",
            "29995    8\n",
            "29996    4\n",
            "29997    5\n",
            "29998    2\n",
            "29999    7\n",
            "Name: name_word_count, Length: 30000, dtype: int64\n"
          ]
        }
      ]
    },
    {
      "cell_type": "markdown",
      "metadata": {
        "id": "NFbr3_YvAsuG"
      },
      "source": [
        "### Группировки таблиц `pd.DataFrame`"
      ]
    },
    {
      "cell_type": "markdown",
      "metadata": {
        "id": "EMbFSsA3AsuG"
      },
      "source": [
        "4.1 Посчитайте количество рецептов, представленных каждым из участников (`contributor_id`). Какой участник добавил максимальное кол-во рецептов?"
      ]
    },
    {
      "cell_type": "code",
      "source": [
        "recipe_counts = recipes['contributor_id'].value_counts()\n",
        "print('Количество рецептов, представленных каждым из участников:\\n', recipe_counts)\n",
        "print('\\nМаксимальное кол-во рецептов добавил участник:', recipe_counts.idxmax())"
      ],
      "metadata": {
        "colab": {
          "base_uri": "https://localhost:8080/"
        },
        "id": "p1R3Slti8Cwu",
        "outputId": "4f67ce61-4849-4dc4-ccab-e81cc0380344"
      },
      "execution_count": 29,
      "outputs": [
        {
          "output_type": "stream",
          "name": "stdout",
          "text": [
            "Количество рецептов, представленных каждым из участников:\n",
            " 89831      421\n",
            "37449      346\n",
            "37779      345\n",
            "1533       186\n",
            "169430     183\n",
            "          ... \n",
            "1061628      1\n",
            "1076183      1\n",
            "429061       1\n",
            "64032        1\n",
            "186118       1\n",
            "Name: contributor_id, Length: 8404, dtype: int64\n",
            "\n",
            "Максимальное кол-во рецептов добавил участник: 89831\n"
          ]
        }
      ]
    },
    {
      "cell_type": "markdown",
      "metadata": {
        "id": "kUGMjaq1AsuG"
      },
      "source": [
        "4.2 Посчитайте средний рейтинг к каждому из рецептов. Для скольких рецептов отсутствуют отзывы? Обратите внимание, что отзыв с нулевым рейтингом или не заполненным текстовым описанием не считается отсутствующим."
      ]
    },
    {
      "cell_type": "code",
      "source": [
        "# Сгруппировать отзывы по recipe_id и посчитать средний рейтинг\n",
        "mean_rating = reviews.groupby('recipe_id')['rating'].mean()\n",
        "\n",
        "# Объединение таблиц по столбцу id из recipes\n",
        "merged = recipes.merge(reviews[['recipe_id']], how='left', left_on='id', right_on='recipe_id')\n",
        "# Отбор рецептов, для которых нет отзывов\n",
        "recipes_without_reviews = merged[merged['recipe_id'].isna()]['id']\n",
        "\n",
        "print('Средний рейтинг к каждому из рецептов:\\n', mean_rating)\n",
        "print('\\nКоличество рецептов без отзывов:', len(recipes_without_reviews))"
      ],
      "metadata": {
        "colab": {
          "base_uri": "https://localhost:8080/"
        },
        "id": "vpxxmgLYdEU0",
        "outputId": "f09a803a-f9e2-4639-d33e-12d66202085b"
      },
      "execution_count": 73,
      "outputs": [
        {
          "output_type": "stream",
          "name": "stdout",
          "text": [
            "Средний рейтинг к каждому из рецептов:\n",
            " recipe_id\n",
            "48        1.000000\n",
            "55        4.750000\n",
            "66        4.944444\n",
            "91        4.750000\n",
            "94        5.000000\n",
            "            ...   \n",
            "536547    5.000000\n",
            "536610    0.000000\n",
            "536728    4.000000\n",
            "536729    4.750000\n",
            "536747    0.000000\n",
            "Name: rating, Length: 28100, dtype: float64\n",
            "\n",
            "Количество рецептов без отзывов: 1900\n"
          ]
        }
      ]
    },
    {
      "cell_type": "markdown",
      "metadata": {
        "id": "MaQvfTQ8AsuG"
      },
      "source": [
        "4.3 Посчитайте количество рецептов с разбивкой по годам создания."
      ]
    },
    {
      "cell_type": "code",
      "source": [
        "# Извлечь год из столбца 'submitted' и сохранить его в новом столбце 'year'\n",
        "recipes['year'] = pd.to_datetime(recipes['submitted']).dt.year\n",
        "\n",
        "# Подсчитать количество рецептов, созданных в каждом году\n",
        "recipe_count_by_year = recipes['year'].value_counts().sort_index()\n",
        "\n",
        "# Вывести результаты\n",
        "print(recipe_count_by_year)"
      ],
      "metadata": {
        "colab": {
          "base_uri": "https://localhost:8080/"
        },
        "id": "pGpvEYJ8cc2f",
        "outputId": "6bfddfde-3d65-4d04-e33f-4a482f2f71be"
      },
      "execution_count": 110,
      "outputs": [
        {
          "output_type": "stream",
          "name": "stdout",
          "text": [
            "1999     275\n",
            "2000     104\n",
            "2001     589\n",
            "2002    2644\n",
            "2003    2334\n",
            "2004    2153\n",
            "2005    3130\n",
            "2006    3473\n",
            "2007    4429\n",
            "2008    4029\n",
            "2009    2963\n",
            "2010    1538\n",
            "2011     922\n",
            "2012     659\n",
            "2013     490\n",
            "2014     139\n",
            "2015      42\n",
            "2016      24\n",
            "2017      39\n",
            "2018      24\n",
            "Name: year, dtype: int64\n"
          ]
        }
      ]
    },
    {
      "cell_type": "markdown",
      "metadata": {
        "id": "U-p1jiHiAsuH"
      },
      "source": [
        "### Объединение таблиц `pd.DataFrame`"
      ]
    },
    {
      "cell_type": "markdown",
      "metadata": {
        "id": "6Kx-jGPtAsuH"
      },
      "source": [
        "5.1 При помощи объединения таблиц, создайте `DataFrame`, состоящий из четырех столбцов: `id`, `name`, `user_id`, `rating`. Рецепты, на которые не оставлен ни один отзыв, должны отсутствовать в полученной таблице. Подтвердите правильность работы вашего кода, выбрав рецепт, не имеющий отзывов, и попытавшись найти строку, соответствующую этому рецепту, в полученном `DataFrame`."
      ]
    },
    {
      "cell_type": "code",
      "source": [
        "# Выбор нужных столбцов из таблиц\n",
        "recipes_for_merge = recipes[['id', 'name']]\n",
        "reviews_for_merge = reviews[['recipe_id', 'user_id', 'rating']]\n",
        "\n",
        "# Объединение таблиц\n",
        "merged_5_1 = pd.merge(recipes_for_merge, reviews_for_merge, left_on='id', right_on='recipe_id')\n",
        "\n",
        "# Удаление лишнего столбца\n",
        "del merged_5_1['recipe_id']\n",
        "\n",
        "merged_5_1"
      ],
      "metadata": {
        "colab": {
          "base_uri": "https://localhost:8080/",
          "height": 447
        },
        "id": "Qw50wvT7pCJY",
        "outputId": "26c34ad5-9ab7-44d9-8cf4-77d1f10cb12c"
      },
      "execution_count": 151,
      "outputs": [
        {
          "output_type": "execute_result",
          "data": {
            "text/plain": [
              "            id                                    name  user_id  rating\n",
              "0        44123   George S At The Cove  Black Bean Soup   743566       5\n",
              "1        44123   George S At The Cove  Black Bean Soup    76503       5\n",
              "2        44123   George S At The Cove  Black Bean Soup    34206       5\n",
              "3        67664      Healthy For Them  Yogurt Popsicles   494084       5\n",
              "4        67664      Healthy For Them  Yogurt Popsicles   303445       5\n",
              "...        ...                                     ...      ...     ...\n",
              "126691  486161                             Zydeco Soup   305531       5\n",
              "126692  486161                             Zydeco Soup  1271506       5\n",
              "126693  486161                             Zydeco Soup   724631       5\n",
              "126694  486161                             Zydeco Soup   133174       5\n",
              "126695  298512  Cookies By Design   Cookies On A Stick   804234       1\n",
              "\n",
              "[126696 rows x 4 columns]"
            ],
            "text/html": [
              "\n",
              "  <div id=\"df-a79690e1-9399-4713-b324-ed28751aae0f\">\n",
              "    <div class=\"colab-df-container\">\n",
              "      <div>\n",
              "<style scoped>\n",
              "    .dataframe tbody tr th:only-of-type {\n",
              "        vertical-align: middle;\n",
              "    }\n",
              "\n",
              "    .dataframe tbody tr th {\n",
              "        vertical-align: top;\n",
              "    }\n",
              "\n",
              "    .dataframe thead th {\n",
              "        text-align: right;\n",
              "    }\n",
              "</style>\n",
              "<table border=\"1\" class=\"dataframe\">\n",
              "  <thead>\n",
              "    <tr style=\"text-align: right;\">\n",
              "      <th></th>\n",
              "      <th>id</th>\n",
              "      <th>name</th>\n",
              "      <th>user_id</th>\n",
              "      <th>rating</th>\n",
              "    </tr>\n",
              "  </thead>\n",
              "  <tbody>\n",
              "    <tr>\n",
              "      <th>0</th>\n",
              "      <td>44123</td>\n",
              "      <td>George S At The Cove  Black Bean Soup</td>\n",
              "      <td>743566</td>\n",
              "      <td>5</td>\n",
              "    </tr>\n",
              "    <tr>\n",
              "      <th>1</th>\n",
              "      <td>44123</td>\n",
              "      <td>George S At The Cove  Black Bean Soup</td>\n",
              "      <td>76503</td>\n",
              "      <td>5</td>\n",
              "    </tr>\n",
              "    <tr>\n",
              "      <th>2</th>\n",
              "      <td>44123</td>\n",
              "      <td>George S At The Cove  Black Bean Soup</td>\n",
              "      <td>34206</td>\n",
              "      <td>5</td>\n",
              "    </tr>\n",
              "    <tr>\n",
              "      <th>3</th>\n",
              "      <td>67664</td>\n",
              "      <td>Healthy For Them  Yogurt Popsicles</td>\n",
              "      <td>494084</td>\n",
              "      <td>5</td>\n",
              "    </tr>\n",
              "    <tr>\n",
              "      <th>4</th>\n",
              "      <td>67664</td>\n",
              "      <td>Healthy For Them  Yogurt Popsicles</td>\n",
              "      <td>303445</td>\n",
              "      <td>5</td>\n",
              "    </tr>\n",
              "    <tr>\n",
              "      <th>...</th>\n",
              "      <td>...</td>\n",
              "      <td>...</td>\n",
              "      <td>...</td>\n",
              "      <td>...</td>\n",
              "    </tr>\n",
              "    <tr>\n",
              "      <th>126691</th>\n",
              "      <td>486161</td>\n",
              "      <td>Zydeco Soup</td>\n",
              "      <td>305531</td>\n",
              "      <td>5</td>\n",
              "    </tr>\n",
              "    <tr>\n",
              "      <th>126692</th>\n",
              "      <td>486161</td>\n",
              "      <td>Zydeco Soup</td>\n",
              "      <td>1271506</td>\n",
              "      <td>5</td>\n",
              "    </tr>\n",
              "    <tr>\n",
              "      <th>126693</th>\n",
              "      <td>486161</td>\n",
              "      <td>Zydeco Soup</td>\n",
              "      <td>724631</td>\n",
              "      <td>5</td>\n",
              "    </tr>\n",
              "    <tr>\n",
              "      <th>126694</th>\n",
              "      <td>486161</td>\n",
              "      <td>Zydeco Soup</td>\n",
              "      <td>133174</td>\n",
              "      <td>5</td>\n",
              "    </tr>\n",
              "    <tr>\n",
              "      <th>126695</th>\n",
              "      <td>298512</td>\n",
              "      <td>Cookies By Design   Cookies On A Stick</td>\n",
              "      <td>804234</td>\n",
              "      <td>1</td>\n",
              "    </tr>\n",
              "  </tbody>\n",
              "</table>\n",
              "<p>126696 rows × 4 columns</p>\n",
              "</div>\n",
              "      <button class=\"colab-df-convert\" onclick=\"convertToInteractive('df-a79690e1-9399-4713-b324-ed28751aae0f')\"\n",
              "              title=\"Convert this dataframe to an interactive table.\"\n",
              "              style=\"display:none;\">\n",
              "        \n",
              "  <svg xmlns=\"http://www.w3.org/2000/svg\" height=\"24px\"viewBox=\"0 0 24 24\"\n",
              "       width=\"24px\">\n",
              "    <path d=\"M0 0h24v24H0V0z\" fill=\"none\"/>\n",
              "    <path d=\"M18.56 5.44l.94 2.06.94-2.06 2.06-.94-2.06-.94-.94-2.06-.94 2.06-2.06.94zm-11 1L8.5 8.5l.94-2.06 2.06-.94-2.06-.94L8.5 2.5l-.94 2.06-2.06.94zm10 10l.94 2.06.94-2.06 2.06-.94-2.06-.94-.94-2.06-.94 2.06-2.06.94z\"/><path d=\"M17.41 7.96l-1.37-1.37c-.4-.4-.92-.59-1.43-.59-.52 0-1.04.2-1.43.59L10.3 9.45l-7.72 7.72c-.78.78-.78 2.05 0 2.83L4 21.41c.39.39.9.59 1.41.59.51 0 1.02-.2 1.41-.59l7.78-7.78 2.81-2.81c.8-.78.8-2.07 0-2.86zM5.41 20L4 18.59l7.72-7.72 1.47 1.35L5.41 20z\"/>\n",
              "  </svg>\n",
              "      </button>\n",
              "      \n",
              "  <style>\n",
              "    .colab-df-container {\n",
              "      display:flex;\n",
              "      flex-wrap:wrap;\n",
              "      gap: 12px;\n",
              "    }\n",
              "\n",
              "    .colab-df-convert {\n",
              "      background-color: #E8F0FE;\n",
              "      border: none;\n",
              "      border-radius: 50%;\n",
              "      cursor: pointer;\n",
              "      display: none;\n",
              "      fill: #1967D2;\n",
              "      height: 32px;\n",
              "      padding: 0 0 0 0;\n",
              "      width: 32px;\n",
              "    }\n",
              "\n",
              "    .colab-df-convert:hover {\n",
              "      background-color: #E2EBFA;\n",
              "      box-shadow: 0px 1px 2px rgba(60, 64, 67, 0.3), 0px 1px 3px 1px rgba(60, 64, 67, 0.15);\n",
              "      fill: #174EA6;\n",
              "    }\n",
              "\n",
              "    [theme=dark] .colab-df-convert {\n",
              "      background-color: #3B4455;\n",
              "      fill: #D2E3FC;\n",
              "    }\n",
              "\n",
              "    [theme=dark] .colab-df-convert:hover {\n",
              "      background-color: #434B5C;\n",
              "      box-shadow: 0px 1px 3px 1px rgba(0, 0, 0, 0.15);\n",
              "      filter: drop-shadow(0px 1px 2px rgba(0, 0, 0, 0.3));\n",
              "      fill: #FFFFFF;\n",
              "    }\n",
              "  </style>\n",
              "\n",
              "      <script>\n",
              "        const buttonEl =\n",
              "          document.querySelector('#df-a79690e1-9399-4713-b324-ed28751aae0f button.colab-df-convert');\n",
              "        buttonEl.style.display =\n",
              "          google.colab.kernel.accessAllowed ? 'block' : 'none';\n",
              "\n",
              "        async function convertToInteractive(key) {\n",
              "          const element = document.querySelector('#df-a79690e1-9399-4713-b324-ed28751aae0f');\n",
              "          const dataTable =\n",
              "            await google.colab.kernel.invokeFunction('convertToInteractive',\n",
              "                                                     [key], {});\n",
              "          if (!dataTable) return;\n",
              "\n",
              "          const docLinkHtml = 'Like what you see? Visit the ' +\n",
              "            '<a target=\"_blank\" href=https://colab.research.google.com/notebooks/data_table.ipynb>data table notebook</a>'\n",
              "            + ' to learn more about interactive tables.';\n",
              "          element.innerHTML = '';\n",
              "          dataTable['output_type'] = 'display_data';\n",
              "          await google.colab.output.renderOutput(dataTable, element);\n",
              "          const docLink = document.createElement('div');\n",
              "          docLink.innerHTML = docLinkHtml;\n",
              "          element.appendChild(docLink);\n",
              "        }\n",
              "      </script>\n",
              "    </div>\n",
              "  </div>\n",
              "  "
            ]
          },
          "metadata": {},
          "execution_count": 151
        }
      ]
    },
    {
      "cell_type": "code",
      "source": [
        "# Подтвердите правильность работы вашего кода, выбрав рецепт, не имеющий \n",
        "# отзывов, и попытавшись найти строку, соответствующую этому рецепту, \n",
        "# в полученном DataFrame.\n",
        "\n",
        "# Рецепт 223349 не имеет отзывов, попробуем его вывести\n",
        "print(merged_5_1.loc[merged_5_1['id'] == 223349])"
      ],
      "metadata": {
        "colab": {
          "base_uri": "https://localhost:8080/"
        },
        "id": "djVtSx-PUOgH",
        "outputId": "9b5ddabd-ec4a-4a63-f7e4-067b951693fe"
      },
      "execution_count": 142,
      "outputs": [
        {
          "output_type": "stream",
          "name": "stdout",
          "text": [
            "Empty DataFrame\n",
            "Columns: [id, name, user_id, rating]\n",
            "Index: []\n"
          ]
        }
      ]
    },
    {
      "cell_type": "markdown",
      "metadata": {
        "id": "VJgLc_aaAsuH"
      },
      "source": [
        "5.2 При помощи объединения таблиц и группировок, создайте `DataFrame`, состоящий из трех столбцов: `recipe_id`, `name`, `review_count`, где столбец `review_count` содержит кол-во отзывов, оставленных на рецепт `recipe_id`. У рецептов, на которые не оставлен ни один отзыв, в столбце `review_count` должен быть указан 0. Подтвердите правильность работы вашего кода, выбрав рецепт, не имеющий отзывов, и найдя строку, соответствующую этому рецепту, в полученном `DataFrame`."
      ]
    },
    {
      "cell_type": "code",
      "source": [
        "# Сгруппировать отзывы по recipe_id и посчитать количество отзывов\n",
        "review_counts = reviews.groupby('recipe_id')['review'].count()\n",
        "\n",
        "# Объединение таблиц по столбцу id из recipes\n",
        "merged_5_2 = recipes.merge(review_counts, how='left', left_on='id', right_index=True)\n",
        "\n",
        "# Заменить NaN на 0 в столбце review_count\n",
        "merged_5_2['review_count'] = merged_5_2['review'].fillna(0).astype(int)\n",
        "\n",
        "# Выбрать нужные столбцы\n",
        "merged_5_2 = merged_5_2[['id', 'name', 'review_count']]\n",
        "merged_5_2\n"
      ],
      "metadata": {
        "colab": {
          "base_uri": "https://localhost:8080/",
          "height": 447
        },
        "id": "EgcdUKMdlLQt",
        "outputId": "6c791908-ade8-4a01-ede0-da241aca1309"
      },
      "execution_count": 150,
      "outputs": [
        {
          "output_type": "execute_result",
          "data": {
            "text/plain": [
              "           id                                          name  review_count\n",
              "0       44123         George S At The Cove  Black Bean Soup             3\n",
              "1       67664            Healthy For Them  Yogurt Popsicles             8\n",
              "2       38798                  I Can T Believe It S Spinach             3\n",
              "3       35173                          Italian  Gut Busters             1\n",
              "4       84797      Love Is In The Air  Beef Fondue   Sauces             8\n",
              "...       ...                                           ...           ...\n",
              "29995  267661  Zurie S Holey Rustic Olive And Cheddar Bread             4\n",
              "29996  386977          Zwetschgenkuchen  Bavarian Plum Cake             2\n",
              "29997  103312   Zwiebelkuchen   Southwest German Onion Cake             6\n",
              "29998  486161                                   Zydeco Soup             6\n",
              "29999  298512        Cookies By Design   Cookies On A Stick             1\n",
              "\n",
              "[30000 rows x 3 columns]"
            ],
            "text/html": [
              "\n",
              "  <div id=\"df-cbbfdad8-1e05-4195-baa4-b857707e1539\">\n",
              "    <div class=\"colab-df-container\">\n",
              "      <div>\n",
              "<style scoped>\n",
              "    .dataframe tbody tr th:only-of-type {\n",
              "        vertical-align: middle;\n",
              "    }\n",
              "\n",
              "    .dataframe tbody tr th {\n",
              "        vertical-align: top;\n",
              "    }\n",
              "\n",
              "    .dataframe thead th {\n",
              "        text-align: right;\n",
              "    }\n",
              "</style>\n",
              "<table border=\"1\" class=\"dataframe\">\n",
              "  <thead>\n",
              "    <tr style=\"text-align: right;\">\n",
              "      <th></th>\n",
              "      <th>id</th>\n",
              "      <th>name</th>\n",
              "      <th>review_count</th>\n",
              "    </tr>\n",
              "  </thead>\n",
              "  <tbody>\n",
              "    <tr>\n",
              "      <th>0</th>\n",
              "      <td>44123</td>\n",
              "      <td>George S At The Cove  Black Bean Soup</td>\n",
              "      <td>3</td>\n",
              "    </tr>\n",
              "    <tr>\n",
              "      <th>1</th>\n",
              "      <td>67664</td>\n",
              "      <td>Healthy For Them  Yogurt Popsicles</td>\n",
              "      <td>8</td>\n",
              "    </tr>\n",
              "    <tr>\n",
              "      <th>2</th>\n",
              "      <td>38798</td>\n",
              "      <td>I Can T Believe It S Spinach</td>\n",
              "      <td>3</td>\n",
              "    </tr>\n",
              "    <tr>\n",
              "      <th>3</th>\n",
              "      <td>35173</td>\n",
              "      <td>Italian  Gut Busters</td>\n",
              "      <td>1</td>\n",
              "    </tr>\n",
              "    <tr>\n",
              "      <th>4</th>\n",
              "      <td>84797</td>\n",
              "      <td>Love Is In The Air  Beef Fondue   Sauces</td>\n",
              "      <td>8</td>\n",
              "    </tr>\n",
              "    <tr>\n",
              "      <th>...</th>\n",
              "      <td>...</td>\n",
              "      <td>...</td>\n",
              "      <td>...</td>\n",
              "    </tr>\n",
              "    <tr>\n",
              "      <th>29995</th>\n",
              "      <td>267661</td>\n",
              "      <td>Zurie S Holey Rustic Olive And Cheddar Bread</td>\n",
              "      <td>4</td>\n",
              "    </tr>\n",
              "    <tr>\n",
              "      <th>29996</th>\n",
              "      <td>386977</td>\n",
              "      <td>Zwetschgenkuchen  Bavarian Plum Cake</td>\n",
              "      <td>2</td>\n",
              "    </tr>\n",
              "    <tr>\n",
              "      <th>29997</th>\n",
              "      <td>103312</td>\n",
              "      <td>Zwiebelkuchen   Southwest German Onion Cake</td>\n",
              "      <td>6</td>\n",
              "    </tr>\n",
              "    <tr>\n",
              "      <th>29998</th>\n",
              "      <td>486161</td>\n",
              "      <td>Zydeco Soup</td>\n",
              "      <td>6</td>\n",
              "    </tr>\n",
              "    <tr>\n",
              "      <th>29999</th>\n",
              "      <td>298512</td>\n",
              "      <td>Cookies By Design   Cookies On A Stick</td>\n",
              "      <td>1</td>\n",
              "    </tr>\n",
              "  </tbody>\n",
              "</table>\n",
              "<p>30000 rows × 3 columns</p>\n",
              "</div>\n",
              "      <button class=\"colab-df-convert\" onclick=\"convertToInteractive('df-cbbfdad8-1e05-4195-baa4-b857707e1539')\"\n",
              "              title=\"Convert this dataframe to an interactive table.\"\n",
              "              style=\"display:none;\">\n",
              "        \n",
              "  <svg xmlns=\"http://www.w3.org/2000/svg\" height=\"24px\"viewBox=\"0 0 24 24\"\n",
              "       width=\"24px\">\n",
              "    <path d=\"M0 0h24v24H0V0z\" fill=\"none\"/>\n",
              "    <path d=\"M18.56 5.44l.94 2.06.94-2.06 2.06-.94-2.06-.94-.94-2.06-.94 2.06-2.06.94zm-11 1L8.5 8.5l.94-2.06 2.06-.94-2.06-.94L8.5 2.5l-.94 2.06-2.06.94zm10 10l.94 2.06.94-2.06 2.06-.94-2.06-.94-.94-2.06-.94 2.06-2.06.94z\"/><path d=\"M17.41 7.96l-1.37-1.37c-.4-.4-.92-.59-1.43-.59-.52 0-1.04.2-1.43.59L10.3 9.45l-7.72 7.72c-.78.78-.78 2.05 0 2.83L4 21.41c.39.39.9.59 1.41.59.51 0 1.02-.2 1.41-.59l7.78-7.78 2.81-2.81c.8-.78.8-2.07 0-2.86zM5.41 20L4 18.59l7.72-7.72 1.47 1.35L5.41 20z\"/>\n",
              "  </svg>\n",
              "      </button>\n",
              "      \n",
              "  <style>\n",
              "    .colab-df-container {\n",
              "      display:flex;\n",
              "      flex-wrap:wrap;\n",
              "      gap: 12px;\n",
              "    }\n",
              "\n",
              "    .colab-df-convert {\n",
              "      background-color: #E8F0FE;\n",
              "      border: none;\n",
              "      border-radius: 50%;\n",
              "      cursor: pointer;\n",
              "      display: none;\n",
              "      fill: #1967D2;\n",
              "      height: 32px;\n",
              "      padding: 0 0 0 0;\n",
              "      width: 32px;\n",
              "    }\n",
              "\n",
              "    .colab-df-convert:hover {\n",
              "      background-color: #E2EBFA;\n",
              "      box-shadow: 0px 1px 2px rgba(60, 64, 67, 0.3), 0px 1px 3px 1px rgba(60, 64, 67, 0.15);\n",
              "      fill: #174EA6;\n",
              "    }\n",
              "\n",
              "    [theme=dark] .colab-df-convert {\n",
              "      background-color: #3B4455;\n",
              "      fill: #D2E3FC;\n",
              "    }\n",
              "\n",
              "    [theme=dark] .colab-df-convert:hover {\n",
              "      background-color: #434B5C;\n",
              "      box-shadow: 0px 1px 3px 1px rgba(0, 0, 0, 0.15);\n",
              "      filter: drop-shadow(0px 1px 2px rgba(0, 0, 0, 0.3));\n",
              "      fill: #FFFFFF;\n",
              "    }\n",
              "  </style>\n",
              "\n",
              "      <script>\n",
              "        const buttonEl =\n",
              "          document.querySelector('#df-cbbfdad8-1e05-4195-baa4-b857707e1539 button.colab-df-convert');\n",
              "        buttonEl.style.display =\n",
              "          google.colab.kernel.accessAllowed ? 'block' : 'none';\n",
              "\n",
              "        async function convertToInteractive(key) {\n",
              "          const element = document.querySelector('#df-cbbfdad8-1e05-4195-baa4-b857707e1539');\n",
              "          const dataTable =\n",
              "            await google.colab.kernel.invokeFunction('convertToInteractive',\n",
              "                                                     [key], {});\n",
              "          if (!dataTable) return;\n",
              "\n",
              "          const docLinkHtml = 'Like what you see? Visit the ' +\n",
              "            '<a target=\"_blank\" href=https://colab.research.google.com/notebooks/data_table.ipynb>data table notebook</a>'\n",
              "            + ' to learn more about interactive tables.';\n",
              "          element.innerHTML = '';\n",
              "          dataTable['output_type'] = 'display_data';\n",
              "          await google.colab.output.renderOutput(dataTable, element);\n",
              "          const docLink = document.createElement('div');\n",
              "          docLink.innerHTML = docLinkHtml;\n",
              "          element.appendChild(docLink);\n",
              "        }\n",
              "      </script>\n",
              "    </div>\n",
              "  </div>\n",
              "  "
            ]
          },
          "metadata": {},
          "execution_count": 150
        }
      ]
    },
    {
      "cell_type": "code",
      "source": [
        "# Подтвердите правильность работы вашего кода, выбрав рецепт, не имеющий \n",
        "# отзывов, и найдя строку, соответствующую этому рецепту, в полученном \n",
        "# DataFrame.\n",
        "\n",
        "# Рецепт 223349 не имеет отзывов, попробуем его вывести\n",
        "merged_5_2.loc[merged_5_2['id'] == 223349]"
      ],
      "metadata": {
        "colab": {
          "base_uri": "https://localhost:8080/",
          "height": 198
        },
        "id": "T-HTDqW_mJ3x",
        "outputId": "7461e05f-38ae-4996-e5b7-1741b95d6404"
      },
      "execution_count": 149,
      "outputs": [
        {
          "output_type": "execute_result",
          "data": {
            "text/plain": [
              "                             name      id  minutes  contributor_id  submitted  \\\n",
              "26  Pasta  With Shrimp   Eggplant  223349       50          452592 2007-04-18   \n",
              "\n",
              "    n_steps                                        description  n_ingredients  \\\n",
              "26      7.0  a nice low carb way to feel like you are eatin...            9.0   \n",
              "\n",
              "    description_length  name_word_count  review  review_count  \n",
              "26                  54                4     NaN             0  "
            ],
            "text/html": [
              "\n",
              "  <div id=\"df-1161f6b0-74e1-41fd-b039-e35313e0abf3\">\n",
              "    <div class=\"colab-df-container\">\n",
              "      <div>\n",
              "<style scoped>\n",
              "    .dataframe tbody tr th:only-of-type {\n",
              "        vertical-align: middle;\n",
              "    }\n",
              "\n",
              "    .dataframe tbody tr th {\n",
              "        vertical-align: top;\n",
              "    }\n",
              "\n",
              "    .dataframe thead th {\n",
              "        text-align: right;\n",
              "    }\n",
              "</style>\n",
              "<table border=\"1\" class=\"dataframe\">\n",
              "  <thead>\n",
              "    <tr style=\"text-align: right;\">\n",
              "      <th></th>\n",
              "      <th>name</th>\n",
              "      <th>id</th>\n",
              "      <th>minutes</th>\n",
              "      <th>contributor_id</th>\n",
              "      <th>submitted</th>\n",
              "      <th>n_steps</th>\n",
              "      <th>description</th>\n",
              "      <th>n_ingredients</th>\n",
              "      <th>description_length</th>\n",
              "      <th>name_word_count</th>\n",
              "      <th>review</th>\n",
              "      <th>review_count</th>\n",
              "    </tr>\n",
              "  </thead>\n",
              "  <tbody>\n",
              "    <tr>\n",
              "      <th>26</th>\n",
              "      <td>Pasta  With Shrimp   Eggplant</td>\n",
              "      <td>223349</td>\n",
              "      <td>50</td>\n",
              "      <td>452592</td>\n",
              "      <td>2007-04-18</td>\n",
              "      <td>7.0</td>\n",
              "      <td>a nice low carb way to feel like you are eatin...</td>\n",
              "      <td>9.0</td>\n",
              "      <td>54</td>\n",
              "      <td>4</td>\n",
              "      <td>NaN</td>\n",
              "      <td>0</td>\n",
              "    </tr>\n",
              "  </tbody>\n",
              "</table>\n",
              "</div>\n",
              "      <button class=\"colab-df-convert\" onclick=\"convertToInteractive('df-1161f6b0-74e1-41fd-b039-e35313e0abf3')\"\n",
              "              title=\"Convert this dataframe to an interactive table.\"\n",
              "              style=\"display:none;\">\n",
              "        \n",
              "  <svg xmlns=\"http://www.w3.org/2000/svg\" height=\"24px\"viewBox=\"0 0 24 24\"\n",
              "       width=\"24px\">\n",
              "    <path d=\"M0 0h24v24H0V0z\" fill=\"none\"/>\n",
              "    <path d=\"M18.56 5.44l.94 2.06.94-2.06 2.06-.94-2.06-.94-.94-2.06-.94 2.06-2.06.94zm-11 1L8.5 8.5l.94-2.06 2.06-.94-2.06-.94L8.5 2.5l-.94 2.06-2.06.94zm10 10l.94 2.06.94-2.06 2.06-.94-2.06-.94-.94-2.06-.94 2.06-2.06.94z\"/><path d=\"M17.41 7.96l-1.37-1.37c-.4-.4-.92-.59-1.43-.59-.52 0-1.04.2-1.43.59L10.3 9.45l-7.72 7.72c-.78.78-.78 2.05 0 2.83L4 21.41c.39.39.9.59 1.41.59.51 0 1.02-.2 1.41-.59l7.78-7.78 2.81-2.81c.8-.78.8-2.07 0-2.86zM5.41 20L4 18.59l7.72-7.72 1.47 1.35L5.41 20z\"/>\n",
              "  </svg>\n",
              "      </button>\n",
              "      \n",
              "  <style>\n",
              "    .colab-df-container {\n",
              "      display:flex;\n",
              "      flex-wrap:wrap;\n",
              "      gap: 12px;\n",
              "    }\n",
              "\n",
              "    .colab-df-convert {\n",
              "      background-color: #E8F0FE;\n",
              "      border: none;\n",
              "      border-radius: 50%;\n",
              "      cursor: pointer;\n",
              "      display: none;\n",
              "      fill: #1967D2;\n",
              "      height: 32px;\n",
              "      padding: 0 0 0 0;\n",
              "      width: 32px;\n",
              "    }\n",
              "\n",
              "    .colab-df-convert:hover {\n",
              "      background-color: #E2EBFA;\n",
              "      box-shadow: 0px 1px 2px rgba(60, 64, 67, 0.3), 0px 1px 3px 1px rgba(60, 64, 67, 0.15);\n",
              "      fill: #174EA6;\n",
              "    }\n",
              "\n",
              "    [theme=dark] .colab-df-convert {\n",
              "      background-color: #3B4455;\n",
              "      fill: #D2E3FC;\n",
              "    }\n",
              "\n",
              "    [theme=dark] .colab-df-convert:hover {\n",
              "      background-color: #434B5C;\n",
              "      box-shadow: 0px 1px 3px 1px rgba(0, 0, 0, 0.15);\n",
              "      filter: drop-shadow(0px 1px 2px rgba(0, 0, 0, 0.3));\n",
              "      fill: #FFFFFF;\n",
              "    }\n",
              "  </style>\n",
              "\n",
              "      <script>\n",
              "        const buttonEl =\n",
              "          document.querySelector('#df-1161f6b0-74e1-41fd-b039-e35313e0abf3 button.colab-df-convert');\n",
              "        buttonEl.style.display =\n",
              "          google.colab.kernel.accessAllowed ? 'block' : 'none';\n",
              "\n",
              "        async function convertToInteractive(key) {\n",
              "          const element = document.querySelector('#df-1161f6b0-74e1-41fd-b039-e35313e0abf3');\n",
              "          const dataTable =\n",
              "            await google.colab.kernel.invokeFunction('convertToInteractive',\n",
              "                                                     [key], {});\n",
              "          if (!dataTable) return;\n",
              "\n",
              "          const docLinkHtml = 'Like what you see? Visit the ' +\n",
              "            '<a target=\"_blank\" href=https://colab.research.google.com/notebooks/data_table.ipynb>data table notebook</a>'\n",
              "            + ' to learn more about interactive tables.';\n",
              "          element.innerHTML = '';\n",
              "          dataTable['output_type'] = 'display_data';\n",
              "          await google.colab.output.renderOutput(dataTable, element);\n",
              "          const docLink = document.createElement('div');\n",
              "          docLink.innerHTML = docLinkHtml;\n",
              "          element.appendChild(docLink);\n",
              "        }\n",
              "      </script>\n",
              "    </div>\n",
              "  </div>\n",
              "  "
            ]
          },
          "metadata": {},
          "execution_count": 149
        }
      ]
    },
    {
      "cell_type": "markdown",
      "metadata": {
        "id": "Np5CpaU3AsuH"
      },
      "source": [
        "5.3. Выясните, рецепты, добавленные в каком году, имеют наименьший средний рейтинг?"
      ]
    },
    {
      "cell_type": "code",
      "source": [
        "# Сгруппировать отзывы по recipe_id и посчитать средний рейтинг\n",
        "mean_rating = reviews.groupby('recipe_id')['rating'].mean()\n",
        "\n",
        "# Добавить столбец с годом выпуска рецепта\n",
        "recipes['year'] = pd.to_datetime(recipes['submitted']).dt.year\n",
        "\n",
        "# Объединение таблиц по столбцу id из recipes\n",
        "merged = recipes.merge(mean_rating, how='left', left_on='id', right_on='recipe_id')\n",
        "\n",
        "# Выбор нужных столбцов\n",
        "df = merged[['id', 'year', 'rating']]\n",
        "\n",
        "# Посчитать средний рейтинг в каждом году\n",
        "mean_rating_by_year = df.groupby('year')['rating'].mean()\n",
        "\n",
        "year_with_min_rating = mean_rating_by_year.idxmin()\n",
        "print(\"Год с наименьшим средним рейтингом: \", year_with_min_rating)"
      ],
      "metadata": {
        "colab": {
          "base_uri": "https://localhost:8080/"
        },
        "id": "9pzBOkVFfIVB",
        "outputId": "8c1a295d-d1bf-463b-940b-5b87b5659e49"
      },
      "execution_count": 128,
      "outputs": [
        {
          "output_type": "stream",
          "name": "stdout",
          "text": [
            "Год с наименьшим средним рейтингом:  2017\n"
          ]
        }
      ]
    },
    {
      "cell_type": "markdown",
      "metadata": {
        "id": "Dan7oCIZAsuH"
      },
      "source": [
        "### Сохранение таблиц `pd.DataFrame`"
      ]
    },
    {
      "cell_type": "markdown",
      "metadata": {
        "id": "AsHLoSD9AsuI"
      },
      "source": [
        "6.1 Отсортируйте таблицу в порядке убывания величины столбца `name_word_count` и сохраните результаты выполнения заданий 3.1-3.3 в csv файл. "
      ]
    },
    {
      "cell_type": "code",
      "source": [
        "# Отсортируйте таблицу в порядке убывания величины столбца name_word_count\n",
        "recipes_sorted = recipes.sort_values('name_word_count', ascending=False)\n",
        "recipes_sorted.head()"
      ],
      "metadata": {
        "colab": {
          "base_uri": "https://localhost:8080/",
          "height": 835
        },
        "id": "0Fl86BuAhj4y",
        "outputId": "55990a7f-b208-45f3-f649-d18d6b86d4ff"
      },
      "execution_count": 135,
      "outputs": [
        {
          "output_type": "execute_result",
          "data": {
            "text/plain": [
              "                                                    name      id  minutes  \\\n",
              "26223  Subru Uncle S Whole Green Moong Dal I Ll Be Ma...   77188       95   \n",
              "28083  Tsr Version Of T G I  Friday S Black Bean Soup...  102274       75   \n",
              "26222  Subru Uncle S Toor Ki Dal Sindhi Style  Dad  M...   76908       65   \n",
              "27876  Top Secret Recipes Version Of  I H O P  Griddl...  113346       20   \n",
              "5734   Chicken Curry Or  Cat S Vomit On A Bed Of Magg...  294898       30   \n",
              "\n",
              "       contributor_id  submitted  n_steps  \\\n",
              "26223            6357 2003-11-21      NaN   \n",
              "28083           74652 2004-10-19      9.0   \n",
              "26222            6357 2003-11-18     29.0   \n",
              "27876          175727 2005-03-14      5.0   \n",
              "5734           802799 2008-03-28     11.0   \n",
              "\n",
              "                                             description  n_ingredients  \\\n",
              "26223  my dad and mom quite enjoy this lentil curry. ...           15.0   \n",
              "28083  from www.topsecretrecipes.com i got this copyc...           16.0   \n",
              "26222  this is the lentil curry that subru uncle(our ...           15.0   \n",
              "27876  this recipe is top secret recipes version of i...            9.0   \n",
              "5734   an old family recipe that's easy to make since...           12.0   \n",
              "\n",
              "       description_length  name_word_count  \n",
              "26223                 343               15  \n",
              "28083                 436               14  \n",
              "26222                1087               14  \n",
              "27876                 129               14  \n",
              "5734                  144               13  "
            ],
            "text/html": [
              "\n",
              "  <div id=\"df-4e4f47c7-6994-4291-b945-5c3ff4d3928a\">\n",
              "    <div class=\"colab-df-container\">\n",
              "      <div>\n",
              "<style scoped>\n",
              "    .dataframe tbody tr th:only-of-type {\n",
              "        vertical-align: middle;\n",
              "    }\n",
              "\n",
              "    .dataframe tbody tr th {\n",
              "        vertical-align: top;\n",
              "    }\n",
              "\n",
              "    .dataframe thead th {\n",
              "        text-align: right;\n",
              "    }\n",
              "</style>\n",
              "<table border=\"1\" class=\"dataframe\">\n",
              "  <thead>\n",
              "    <tr style=\"text-align: right;\">\n",
              "      <th></th>\n",
              "      <th>name</th>\n",
              "      <th>id</th>\n",
              "      <th>minutes</th>\n",
              "      <th>contributor_id</th>\n",
              "      <th>submitted</th>\n",
              "      <th>n_steps</th>\n",
              "      <th>description</th>\n",
              "      <th>n_ingredients</th>\n",
              "      <th>description_length</th>\n",
              "      <th>name_word_count</th>\n",
              "    </tr>\n",
              "  </thead>\n",
              "  <tbody>\n",
              "    <tr>\n",
              "      <th>26223</th>\n",
              "      <td>Subru Uncle S Whole Green Moong Dal I Ll Be Ma...</td>\n",
              "      <td>77188</td>\n",
              "      <td>95</td>\n",
              "      <td>6357</td>\n",
              "      <td>2003-11-21</td>\n",
              "      <td>NaN</td>\n",
              "      <td>my dad and mom quite enjoy this lentil curry. ...</td>\n",
              "      <td>15.0</td>\n",
              "      <td>343</td>\n",
              "      <td>15</td>\n",
              "    </tr>\n",
              "    <tr>\n",
              "      <th>28083</th>\n",
              "      <td>Tsr Version Of T G I  Friday S Black Bean Soup...</td>\n",
              "      <td>102274</td>\n",
              "      <td>75</td>\n",
              "      <td>74652</td>\n",
              "      <td>2004-10-19</td>\n",
              "      <td>9.0</td>\n",
              "      <td>from www.topsecretrecipes.com i got this copyc...</td>\n",
              "      <td>16.0</td>\n",
              "      <td>436</td>\n",
              "      <td>14</td>\n",
              "    </tr>\n",
              "    <tr>\n",
              "      <th>26222</th>\n",
              "      <td>Subru Uncle S Toor Ki Dal Sindhi Style  Dad  M...</td>\n",
              "      <td>76908</td>\n",
              "      <td>65</td>\n",
              "      <td>6357</td>\n",
              "      <td>2003-11-18</td>\n",
              "      <td>29.0</td>\n",
              "      <td>this is the lentil curry that subru uncle(our ...</td>\n",
              "      <td>15.0</td>\n",
              "      <td>1087</td>\n",
              "      <td>14</td>\n",
              "    </tr>\n",
              "    <tr>\n",
              "      <th>27876</th>\n",
              "      <td>Top Secret Recipes Version Of  I H O P  Griddl...</td>\n",
              "      <td>113346</td>\n",
              "      <td>20</td>\n",
              "      <td>175727</td>\n",
              "      <td>2005-03-14</td>\n",
              "      <td>5.0</td>\n",
              "      <td>this recipe is top secret recipes version of i...</td>\n",
              "      <td>9.0</td>\n",
              "      <td>129</td>\n",
              "      <td>14</td>\n",
              "    </tr>\n",
              "    <tr>\n",
              "      <th>5734</th>\n",
              "      <td>Chicken Curry Or  Cat S Vomit On A Bed Of Magg...</td>\n",
              "      <td>294898</td>\n",
              "      <td>30</td>\n",
              "      <td>802799</td>\n",
              "      <td>2008-03-28</td>\n",
              "      <td>11.0</td>\n",
              "      <td>an old family recipe that's easy to make since...</td>\n",
              "      <td>12.0</td>\n",
              "      <td>144</td>\n",
              "      <td>13</td>\n",
              "    </tr>\n",
              "  </tbody>\n",
              "</table>\n",
              "</div>\n",
              "      <button class=\"colab-df-convert\" onclick=\"convertToInteractive('df-4e4f47c7-6994-4291-b945-5c3ff4d3928a')\"\n",
              "              title=\"Convert this dataframe to an interactive table.\"\n",
              "              style=\"display:none;\">\n",
              "        \n",
              "  <svg xmlns=\"http://www.w3.org/2000/svg\" height=\"24px\"viewBox=\"0 0 24 24\"\n",
              "       width=\"24px\">\n",
              "    <path d=\"M0 0h24v24H0V0z\" fill=\"none\"/>\n",
              "    <path d=\"M18.56 5.44l.94 2.06.94-2.06 2.06-.94-2.06-.94-.94-2.06-.94 2.06-2.06.94zm-11 1L8.5 8.5l.94-2.06 2.06-.94-2.06-.94L8.5 2.5l-.94 2.06-2.06.94zm10 10l.94 2.06.94-2.06 2.06-.94-2.06-.94-.94-2.06-.94 2.06-2.06.94z\"/><path d=\"M17.41 7.96l-1.37-1.37c-.4-.4-.92-.59-1.43-.59-.52 0-1.04.2-1.43.59L10.3 9.45l-7.72 7.72c-.78.78-.78 2.05 0 2.83L4 21.41c.39.39.9.59 1.41.59.51 0 1.02-.2 1.41-.59l7.78-7.78 2.81-2.81c.8-.78.8-2.07 0-2.86zM5.41 20L4 18.59l7.72-7.72 1.47 1.35L5.41 20z\"/>\n",
              "  </svg>\n",
              "      </button>\n",
              "      \n",
              "  <style>\n",
              "    .colab-df-container {\n",
              "      display:flex;\n",
              "      flex-wrap:wrap;\n",
              "      gap: 12px;\n",
              "    }\n",
              "\n",
              "    .colab-df-convert {\n",
              "      background-color: #E8F0FE;\n",
              "      border: none;\n",
              "      border-radius: 50%;\n",
              "      cursor: pointer;\n",
              "      display: none;\n",
              "      fill: #1967D2;\n",
              "      height: 32px;\n",
              "      padding: 0 0 0 0;\n",
              "      width: 32px;\n",
              "    }\n",
              "\n",
              "    .colab-df-convert:hover {\n",
              "      background-color: #E2EBFA;\n",
              "      box-shadow: 0px 1px 2px rgba(60, 64, 67, 0.3), 0px 1px 3px 1px rgba(60, 64, 67, 0.15);\n",
              "      fill: #174EA6;\n",
              "    }\n",
              "\n",
              "    [theme=dark] .colab-df-convert {\n",
              "      background-color: #3B4455;\n",
              "      fill: #D2E3FC;\n",
              "    }\n",
              "\n",
              "    [theme=dark] .colab-df-convert:hover {\n",
              "      background-color: #434B5C;\n",
              "      box-shadow: 0px 1px 3px 1px rgba(0, 0, 0, 0.15);\n",
              "      filter: drop-shadow(0px 1px 2px rgba(0, 0, 0, 0.3));\n",
              "      fill: #FFFFFF;\n",
              "    }\n",
              "  </style>\n",
              "\n",
              "      <script>\n",
              "        const buttonEl =\n",
              "          document.querySelector('#df-4e4f47c7-6994-4291-b945-5c3ff4d3928a button.colab-df-convert');\n",
              "        buttonEl.style.display =\n",
              "          google.colab.kernel.accessAllowed ? 'block' : 'none';\n",
              "\n",
              "        async function convertToInteractive(key) {\n",
              "          const element = document.querySelector('#df-4e4f47c7-6994-4291-b945-5c3ff4d3928a');\n",
              "          const dataTable =\n",
              "            await google.colab.kernel.invokeFunction('convertToInteractive',\n",
              "                                                     [key], {});\n",
              "          if (!dataTable) return;\n",
              "\n",
              "          const docLinkHtml = 'Like what you see? Visit the ' +\n",
              "            '<a target=\"_blank\" href=https://colab.research.google.com/notebooks/data_table.ipynb>data table notebook</a>'\n",
              "            + ' to learn more about interactive tables.';\n",
              "          element.innerHTML = '';\n",
              "          dataTable['output_type'] = 'display_data';\n",
              "          await google.colab.output.renderOutput(dataTable, element);\n",
              "          const docLink = document.createElement('div');\n",
              "          docLink.innerHTML = docLinkHtml;\n",
              "          element.appendChild(docLink);\n",
              "        }\n",
              "      </script>\n",
              "    </div>\n",
              "  </div>\n",
              "  "
            ]
          },
          "metadata": {},
          "execution_count": 135
        }
      ]
    },
    {
      "cell_type": "code",
      "source": [
        "# Сохраните результаты выполнения заданий 3.1-3.3 в csv файл\n",
        "recipes_sorted[['description_length', 'name', 'name_word_count']].to_csv('6.1.csv', index=False) # index=False - индексы строк не будут записаны в файл"
      ],
      "metadata": {
        "id": "HwnUz9TEjvXa"
      },
      "execution_count": 137,
      "outputs": []
    },
    {
      "cell_type": "markdown",
      "metadata": {
        "id": "RVVmSNXiAsuI"
      },
      "source": [
        "6.2 Воспользовавшись `pd.ExcelWriter`, cохраните результаты 5.1 и 5.2 в файл: на лист с названием `Рецепты с оценками` сохраните результаты выполнения 5.1; на лист с названием `Количество отзывов по рецептам` сохраните результаты выполнения 5.2."
      ]
    },
    {
      "cell_type": "code",
      "source": [
        "with pd.ExcelWriter('6.2.xlsx') as writer:\n",
        "    merged_5_1.to_excel(writer, sheet_name='Рецепты с оценками', index=False)\n",
        "    merged_5_2.to_excel(writer, sheet_name='Количество отзывов по рецептам', index=False)"
      ],
      "metadata": {
        "id": "DryTY3ttnGea"
      },
      "execution_count": 152,
      "outputs": []
    }
  ],
  "metadata": {
    "kernelspec": {
      "display_name": "Python 3",
      "language": "python",
      "name": "python3"
    },
    "language_info": {
      "codemirror_mode": {
        "name": "ipython",
        "version": 3
      },
      "file_extension": ".py",
      "mimetype": "text/x-python",
      "name": "python",
      "nbconvert_exporter": "python",
      "pygments_lexer": "ipython3",
      "version": "3.7.4"
    },
    "colab": {
      "provenance": []
    }
  },
  "nbformat": 4,
  "nbformat_minor": 0
}