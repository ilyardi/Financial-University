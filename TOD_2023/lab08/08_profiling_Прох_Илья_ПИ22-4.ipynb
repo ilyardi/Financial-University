{
 "cells": [
  {
   "cell_type": "markdown",
   "metadata": {},
   "source": [
    "## Оптимизация выполнения кода, векторизация, Numba"
   ]
  },
  {
   "cell_type": "markdown",
   "metadata": {},
   "source": [
    "Материалы:\n",
    "* Макрушин С.В. Лекция 3: Оптимизация выполнения кода, векторизация, Numba\n",
    "* IPython Cookbook, Second Edition (2018), глава 4\n",
    "* https://numba.pydata.org/numba-doc/latest/user/5minguide.html"
   ]
  },
  {
   "cell_type": "markdown",
   "metadata": {},
   "source": [
    "## Задачи для совместного разбора"
   ]
  },
  {
   "cell_type": "markdown",
   "metadata": {},
   "source": [
    "1. Сгенерируйте массив `A` из `N=1млн` случайных целых чисел на отрезке от 0 до 1000. Пусть `B[i] = A[i] + 100`. Посчитайте среднее значение массива `B`."
   ]
  },
  {
   "cell_type": "code",
   "execution_count": 6,
   "metadata": {},
   "outputs": [
    {
     "name": "stdout",
     "output_type": "stream",
     "text": [
      "599.886376\n"
     ]
    }
   ],
   "source": [
    "import random\n",
    "\n",
    "# Генерация массива A\n",
    "A = [random.randint(0, 1000) for i in range(1000000)]\n",
    "\n",
    "# Вычисление массива B\n",
    "B = [a + 100 for a in A]\n",
    "\n",
    "# Подсчет среднего значения массива B\n",
    "mean_B = sum(B) / len(B)\n",
    "\n",
    "print(mean_B)"
   ]
  },
  {
   "cell_type": "markdown",
   "metadata": {},
   "source": [
    "2. Создайте таблицу 2млн строк и с 4 столбцами, заполненными случайными числами. Добавьте столбец `key`, которые содержит элементы из множества английских букв. Выберите из таблицы подмножество строк, для которых в столбце `key` указаны первые 5 английских букв."
   ]
  },
  {
   "cell_type": "code",
   "execution_count": 1,
   "metadata": {},
   "outputs": [
    {
     "name": "stdout",
     "output_type": "stream",
     "text": [
      "          a   b   c   d key\n",
      "3        30  76  85   2   d\n",
      "8        48  84  89  84   a\n",
      "9        68  42   7  88   b\n",
      "10       62  66  22  81   c\n",
      "25       48  83  13  14   a\n",
      "...      ..  ..  ..  ..  ..\n",
      "1999978  92  16   0   9   d\n",
      "1999980  52  40   9  61   e\n",
      "1999991  53  56  25  46   b\n",
      "1999994  98  55  96  73   b\n",
      "1999999  53  16  79  35   d\n",
      "\n",
      "[383987 rows x 5 columns]\n"
     ]
    }
   ],
   "source": [
    "import pandas as pd\n",
    "import numpy as np\n",
    "import random\n",
    "import string\n",
    "\n",
    "# Создание таблицы\n",
    "df = pd.DataFrame(np.random.randint(0, 100, size=(2000000, 4)), columns=list('abcd'))\n",
    "\n",
    "# Добавление столбца key с элементами из множества английских букв\n",
    "df['key'] = [random.choice(string.ascii_letters[:26]) for _ in range(2000000)]\n",
    "\n",
    "# Выбор подмножества строк, для которых в столбце key указаны первые 5 английских букв\n",
    "subset = df[df['key'].str[:5].isin(list(string.ascii_letters[:5]))]\n",
    "\n",
    "print(subset)"
   ]
  },
  {
   "cell_type": "markdown",
   "metadata": {},
   "source": [
    "## Лабораторная работа 3"
   ]
  },
  {
   "cell_type": "code",
   "execution_count": 22,
   "metadata": {},
   "outputs": [
    {
     "name": "stdout",
     "output_type": "stream",
     "text": [
      "Requirement already satisfied: line_profiler in ./opt/anaconda3/lib/python3.9/site-packages (4.0.3)\r\n"
     ]
    }
   ],
   "source": [
    "!pip install line_profiler"
   ]
  },
  {
   "cell_type": "markdown",
   "metadata": {},
   "source": [
    "1. В файлах `recipes_sample.csv` и `reviews_sample.csv` (__ЛР 2__) находится информация об рецептах блюд и отзывах на эти рецепты соответственно. Загрузите данные из файлов в виде `pd.DataFrame` с названиями `recipes` и `reviews`. Обратите внимание на корректное считывание столбца(ов) с индексами. Приведите столбцы к нужным типам.\n",
    "\n",
    "Реализуйте несколько вариантов функции подсчета среднего значения столбца `rating` из таблицы `reviews` для отзывов, оставленных в 2010 году.\n",
    "\n",
    "A. С использованием метода `DataFrame.iterrows` исходной таблицы;\n",
    "\n",
    "Б. С использованием метода `DataFrame.iterrows` таблицы, в которой сохранены только отзывы за 2010 год;\n",
    "\n",
    "В. С использованием метода `Series.mean`.\n",
    "\n",
    "Проверьте, что результаты работы всех написанных функций корректны и совпадают. Измерьте выполнения всех написанных функций.\n"
   ]
  },
  {
   "cell_type": "code",
   "execution_count": 15,
   "metadata": {},
   "outputs": [],
   "source": [
    "import pandas as pd\n",
    "import time\n",
    "\n",
    "recipes = pd.read_csv(\"recipes_sample.csv\", sep=\",\", parse_dates=['submitted'])\n",
    "recipes = recipes.set_index('id')\n",
    "\n",
    "reviews = pd.read_csv(\"reviews_sample.csv\", sep=\",\",parse_dates=['date'])\n",
    "reviews.rename(columns={'Unnamed: 0': 'id'}, inplace=True)\n",
    "reviews = reviews.set_index('id')\n",
    "\n",
    "reviews['date'] = pd.to_datetime(reviews['date'])\n",
    "reviews['rating'] = reviews['rating'].astype(float)"
   ]
  },
  {
   "cell_type": "code",
   "execution_count": 16,
   "metadata": {},
   "outputs": [
    {
     "data": {
      "text/html": [
       "<div>\n",
       "<style scoped>\n",
       "    .dataframe tbody tr th:only-of-type {\n",
       "        vertical-align: middle;\n",
       "    }\n",
       "\n",
       "    .dataframe tbody tr th {\n",
       "        vertical-align: top;\n",
       "    }\n",
       "\n",
       "    .dataframe thead th {\n",
       "        text-align: right;\n",
       "    }\n",
       "</style>\n",
       "<table border=\"1\" class=\"dataframe\">\n",
       "  <thead>\n",
       "    <tr style=\"text-align: right;\">\n",
       "      <th></th>\n",
       "      <th>user_id</th>\n",
       "      <th>recipe_id</th>\n",
       "      <th>date</th>\n",
       "      <th>rating</th>\n",
       "      <th>review</th>\n",
       "    </tr>\n",
       "    <tr>\n",
       "      <th>id</th>\n",
       "      <th></th>\n",
       "      <th></th>\n",
       "      <th></th>\n",
       "      <th></th>\n",
       "      <th></th>\n",
       "    </tr>\n",
       "  </thead>\n",
       "  <tbody>\n",
       "    <tr>\n",
       "      <th>370476</th>\n",
       "      <td>21752</td>\n",
       "      <td>57993</td>\n",
       "      <td>2003-05-01</td>\n",
       "      <td>5.0</td>\n",
       "      <td>Last week whole sides of frozen salmon fillet ...</td>\n",
       "    </tr>\n",
       "    <tr>\n",
       "      <th>624300</th>\n",
       "      <td>431813</td>\n",
       "      <td>142201</td>\n",
       "      <td>2007-09-16</td>\n",
       "      <td>5.0</td>\n",
       "      <td>So simple and so tasty!  I used a yellow capsi...</td>\n",
       "    </tr>\n",
       "    <tr>\n",
       "      <th>187037</th>\n",
       "      <td>400708</td>\n",
       "      <td>252013</td>\n",
       "      <td>2008-01-10</td>\n",
       "      <td>4.0</td>\n",
       "      <td>Very nice breakfast HH, easy to make and yummy...</td>\n",
       "    </tr>\n",
       "    <tr>\n",
       "      <th>706134</th>\n",
       "      <td>2001852463</td>\n",
       "      <td>404716</td>\n",
       "      <td>2017-12-11</td>\n",
       "      <td>5.0</td>\n",
       "      <td>These are a favorite for the holidays and so e...</td>\n",
       "    </tr>\n",
       "    <tr>\n",
       "      <th>312179</th>\n",
       "      <td>95810</td>\n",
       "      <td>129396</td>\n",
       "      <td>2008-03-14</td>\n",
       "      <td>5.0</td>\n",
       "      <td>Excellent soup!  The tomato flavor is just gre...</td>\n",
       "    </tr>\n",
       "  </tbody>\n",
       "</table>\n",
       "</div>"
      ],
      "text/plain": [
       "           user_id  recipe_id       date  rating  \\\n",
       "id                                                 \n",
       "370476       21752      57993 2003-05-01     5.0   \n",
       "624300      431813     142201 2007-09-16     5.0   \n",
       "187037      400708     252013 2008-01-10     4.0   \n",
       "706134  2001852463     404716 2017-12-11     5.0   \n",
       "312179       95810     129396 2008-03-14     5.0   \n",
       "\n",
       "                                                   review  \n",
       "id                                                         \n",
       "370476  Last week whole sides of frozen salmon fillet ...  \n",
       "624300  So simple and so tasty!  I used a yellow capsi...  \n",
       "187037  Very nice breakfast HH, easy to make and yummy...  \n",
       "706134  These are a favorite for the holidays and so e...  \n",
       "312179  Excellent soup!  The tomato flavor is just gre...  "
      ]
     },
     "execution_count": 16,
     "metadata": {},
     "output_type": "execute_result"
    }
   ],
   "source": [
    "reviews.head()"
   ]
  },
  {
   "cell_type": "code",
   "execution_count": 17,
   "metadata": {},
   "outputs": [
    {
     "data": {
      "text/html": [
       "<div>\n",
       "<style scoped>\n",
       "    .dataframe tbody tr th:only-of-type {\n",
       "        vertical-align: middle;\n",
       "    }\n",
       "\n",
       "    .dataframe tbody tr th {\n",
       "        vertical-align: top;\n",
       "    }\n",
       "\n",
       "    .dataframe thead th {\n",
       "        text-align: right;\n",
       "    }\n",
       "</style>\n",
       "<table border=\"1\" class=\"dataframe\">\n",
       "  <thead>\n",
       "    <tr style=\"text-align: right;\">\n",
       "      <th></th>\n",
       "      <th>name</th>\n",
       "      <th>minutes</th>\n",
       "      <th>contributor_id</th>\n",
       "      <th>submitted</th>\n",
       "      <th>n_steps</th>\n",
       "      <th>description</th>\n",
       "      <th>n_ingredients</th>\n",
       "    </tr>\n",
       "    <tr>\n",
       "      <th>id</th>\n",
       "      <th></th>\n",
       "      <th></th>\n",
       "      <th></th>\n",
       "      <th></th>\n",
       "      <th></th>\n",
       "      <th></th>\n",
       "      <th></th>\n",
       "    </tr>\n",
       "  </thead>\n",
       "  <tbody>\n",
       "    <tr>\n",
       "      <th>44123</th>\n",
       "      <td>george s at the cove  black bean soup</td>\n",
       "      <td>90</td>\n",
       "      <td>35193</td>\n",
       "      <td>2002-10-25</td>\n",
       "      <td>NaN</td>\n",
       "      <td>an original recipe created by chef scott meska...</td>\n",
       "      <td>18.0</td>\n",
       "    </tr>\n",
       "    <tr>\n",
       "      <th>67664</th>\n",
       "      <td>healthy for them  yogurt popsicles</td>\n",
       "      <td>10</td>\n",
       "      <td>91970</td>\n",
       "      <td>2003-07-26</td>\n",
       "      <td>NaN</td>\n",
       "      <td>my children and their friends ask for my homem...</td>\n",
       "      <td>NaN</td>\n",
       "    </tr>\n",
       "    <tr>\n",
       "      <th>38798</th>\n",
       "      <td>i can t believe it s spinach</td>\n",
       "      <td>30</td>\n",
       "      <td>1533</td>\n",
       "      <td>2002-08-29</td>\n",
       "      <td>NaN</td>\n",
       "      <td>these were so go, it surprised even me.</td>\n",
       "      <td>8.0</td>\n",
       "    </tr>\n",
       "    <tr>\n",
       "      <th>35173</th>\n",
       "      <td>italian  gut busters</td>\n",
       "      <td>45</td>\n",
       "      <td>22724</td>\n",
       "      <td>2002-07-27</td>\n",
       "      <td>NaN</td>\n",
       "      <td>my sister-in-law made these for us at a family...</td>\n",
       "      <td>NaN</td>\n",
       "    </tr>\n",
       "    <tr>\n",
       "      <th>84797</th>\n",
       "      <td>love is in the air  beef fondue   sauces</td>\n",
       "      <td>25</td>\n",
       "      <td>4470</td>\n",
       "      <td>2004-02-23</td>\n",
       "      <td>4.0</td>\n",
       "      <td>i think a fondue is a very romantic casual din...</td>\n",
       "      <td>NaN</td>\n",
       "    </tr>\n",
       "  </tbody>\n",
       "</table>\n",
       "</div>"
      ],
      "text/plain": [
       "                                           name  minutes  contributor_id  \\\n",
       "id                                                                         \n",
       "44123     george s at the cove  black bean soup       90           35193   \n",
       "67664        healthy for them  yogurt popsicles       10           91970   \n",
       "38798              i can t believe it s spinach       30            1533   \n",
       "35173                      italian  gut busters       45           22724   \n",
       "84797  love is in the air  beef fondue   sauces       25            4470   \n",
       "\n",
       "       submitted  n_steps                                        description  \\\n",
       "id                                                                             \n",
       "44123 2002-10-25      NaN  an original recipe created by chef scott meska...   \n",
       "67664 2003-07-26      NaN  my children and their friends ask for my homem...   \n",
       "38798 2002-08-29      NaN            these were so go, it surprised even me.   \n",
       "35173 2002-07-27      NaN  my sister-in-law made these for us at a family...   \n",
       "84797 2004-02-23      4.0  i think a fondue is a very romantic casual din...   \n",
       "\n",
       "       n_ingredients  \n",
       "id                    \n",
       "44123           18.0  \n",
       "67664            NaN  \n",
       "38798            8.0  \n",
       "35173            NaN  \n",
       "84797            NaN  "
      ]
     },
     "execution_count": 17,
     "metadata": {},
     "output_type": "execute_result"
    }
   ],
   "source": [
    "recipes.head()"
   ]
  },
  {
   "cell_type": "code",
   "execution_count": 24,
   "metadata": {},
   "outputs": [
    {
     "name": "stdout",
     "output_type": "stream",
     "text": [
      "Средний Рейтинг (Метод А): 4.4544402182900615\n",
      "Время Выполнения (Метод А): 2.534108877182007\n"
     ]
    }
   ],
   "source": [
    "#А. С использованием метода DataFrame.iterrows исходной таблицы\n",
    "def calculate_mean_rating_a():\n",
    "    total_rating = 0\n",
    "    count = 0\n",
    "    \n",
    "    for index, row in reviews.iterrows():\n",
    "        if row['date'].year == 2010:\n",
    "            total_rating += row['rating']\n",
    "            count += 1\n",
    "    \n",
    "    if count > 0:\n",
    "        return total_rating / count\n",
    "    else:\n",
    "        return 0\n",
    "\n",
    "start_time_a = time.time()\n",
    "mean_rating_a = calculate_mean_rating_a()\n",
    "end_time_a = time.time()\n",
    "execution_time_a = end_time_a - start_time_a\n",
    "\n",
    "print(\"Средний Рейтинг (Метод А):\", mean_rating_a)\n",
    "print(\"Время Выполнения (Метод А):\", execution_time_a)"
   ]
  },
  {
   "cell_type": "code",
   "execution_count": 25,
   "metadata": {},
   "outputs": [
    {
     "name": "stdout",
     "output_type": "stream",
     "text": [
      "Средний Рейтинг (Метод Б): 4.4544402182900615\n",
      "Время Выполнения (Метод Б): 0.26532411575317383\n"
     ]
    }
   ],
   "source": [
    "#Б. С использованием метода DataFrame.iterrows таблицы, в которой сохранены только отзывы за 2010 год\n",
    "def calculate_mean_rating_b():\n",
    "    total_rating = 0\n",
    "    count = 0\n",
    "    \n",
    "    reviews_2010 = reviews.loc[reviews['date'].dt.year == 2010]\n",
    "    \n",
    "    for index, row in reviews_2010.iterrows():\n",
    "        total_rating += row['rating']\n",
    "        count += 1\n",
    "    \n",
    "    if count > 0:\n",
    "        return total_rating / count\n",
    "    else:\n",
    "        return 0\n",
    "\n",
    "start_time_b = time.time()\n",
    "mean_rating_b = calculate_mean_rating_b()\n",
    "end_time_b = time.time()\n",
    "execution_time_b = end_time_b - start_time_b\n",
    "\n",
    "print(\"Средний Рейтинг (Метод Б):\", mean_rating_b)\n",
    "print(\"Время Выполнения (Метод Б):\", execution_time_b)"
   ]
  },
  {
   "cell_type": "code",
   "execution_count": 26,
   "metadata": {},
   "outputs": [
    {
     "name": "stdout",
     "output_type": "stream",
     "text": [
      "Средний Рейтинг (Метод В): 4.4544402182900615\n",
      "Время Выполнения (Метод В): 0.019653797149658203\n"
     ]
    }
   ],
   "source": [
    "#В. С использованием метода Series.mean\n",
    "def calculate_mean_rating_v():\n",
    "    ratings_2010 = reviews.loc[reviews['date'].dt.year == 2010, 'rating']\n",
    "    return ratings_2010.mean()\n",
    "\n",
    "start_time_v = time.time()\n",
    "mean_rating_v = calculate_mean_rating_v()\n",
    "end_time_v = time.time()\n",
    "execution_time_v = end_time_v - start_time_v\n",
    "\n",
    "print(\"Средний Рейтинг (Метод В):\", mean_rating_v)\n",
    "print(\"Время Выполнения (Метод В):\", execution_time_v)"
   ]
  },
  {
   "cell_type": "markdown",
   "metadata": {},
   "source": [
    "2. Какая из созданных функций выполняется медленнее? Что наиболее сильно влияет на скорость выполнения? Для ответа использовать профайлер `line_profiler`. Сохраните результаты работы профайлера в отдельную текстовую ячейку и прокомментируйте результаты его работы.\n",
    "\n",
    "(*). Сможете ли вы ускорить работу функции 1Б, отказавшись от использования метода `iterrows`, но не используя метод `mean`?"
   ]
  },
  {
   "cell_type": "code",
   "execution_count": 38,
   "metadata": {},
   "outputs": [
    {
     "name": "stdout",
     "output_type": "stream",
     "text": [
      "The line_profiler extension is already loaded. To reload it, use:\n",
      "  %reload_ext line_profiler\n"
     ]
    }
   ],
   "source": [
    "%load_ext line_profiler"
   ]
  },
  {
   "cell_type": "code",
   "execution_count": 35,
   "metadata": {},
   "outputs": [],
   "source": [
    "%lprun -f calculate_mean_rating_a calculate_mean_rating_a()"
   ]
  },
  {
   "cell_type": "code",
   "execution_count": null,
   "metadata": {},
   "outputs": [],
   "source": [
    "Timer unit: 1e-09 s\n",
    "\n",
    "Total time: 5.2463 s\n",
    "File: /var/folders/pv/h9y4x0bx2jl7pk4_hr3nk3yr0000gn/T/ipykernel_52419/1463002585.py\n",
    "Function: calculate_mean_rating_a at line 4\n",
    "\n",
    "Line #      Hits         Time  Per Hit   % Time  Line Contents\n",
    "==============================================================\n",
    "     4                                           def calculate_mean_rating_a():\n",
    "     5         1       3000.0   3000.0      0.0      total_rating = 0\n",
    "     6         1          0.0      0.0      0.0      count = 0\n",
    "     7                                               \n",
    "     8    126696 4510645000.0  35602.1     86.0      for index, row in reviews.iterrows():\n",
    "     9    114602  675121000.0   5891.0     12.9          if row['date'].year == 2010:\n",
    "    10     12094   58300000.0   4820.6      1.1              total_rating += row['rating']\n",
    "    11     12094    2231000.0    184.5      0.0              count += 1\n",
    "    12                                               \n",
    "    13         1       1000.0   1000.0      0.0      if count > 0:\n",
    "    14         1       1000.0   1000.0      0.0          return total_rating / count\n",
    "    15                                               else:\n",
    "    16                                                   return 0"
   ]
  },
  {
   "cell_type": "code",
   "execution_count": 36,
   "metadata": {},
   "outputs": [],
   "source": [
    "%lprun -f calculate_mean_rating_b calculate_mean_rating_b()"
   ]
  },
  {
   "cell_type": "code",
   "execution_count": null,
   "metadata": {},
   "outputs": [],
   "source": [
    "Timer unit: 1e-09 s\n",
    "\n",
    "Total time: 0.544122 s\n",
    "File: /var/folders/pv/h9y4x0bx2jl7pk4_hr3nk3yr0000gn/T/ipykernel_52419/1463002585.py\n",
    "Function: calculate_mean_rating_b at line 18\n",
    "\n",
    "Line #      Hits         Time  Per Hit   % Time  Line Contents\n",
    "==============================================================\n",
    "    18                                           def calculate_mean_rating_b():\n",
    "    19         1       2000.0   2000.0      0.0      total_rating = 0\n",
    "    20         1          0.0      0.0      0.0      count = 0\n",
    "    21                                               \n",
    "    22         1   20432000.0 20432000.0      3.8      reviews_2010 = reviews.loc[reviews['date'].dt.year == 2010]\n",
    "    23                                               \n",
    "    24     12094  444269000.0  36734.7     81.6      for index, row in reviews_2010.iterrows():\n",
    "    25     12094   76986000.0   6365.6     14.1          total_rating += row['rating']\n",
    "    26     12094    2432000.0    201.1      0.4          count += 1\n",
    "    27                                               \n",
    "    28         1          0.0      0.0      0.0      if count > 0:\n",
    "    29         1       1000.0   1000.0      0.0          return total_rating / count\n",
    "    30                                               else:\n",
    "    31                                                   return 0"
   ]
  },
  {
   "cell_type": "code",
   "execution_count": 37,
   "metadata": {},
   "outputs": [],
   "source": [
    "%lprun -f calculate_mean_rating_v calculate_mean_rating_v()"
   ]
  },
  {
   "cell_type": "code",
   "execution_count": null,
   "metadata": {},
   "outputs": [],
   "source": [
    "Timer unit: 1e-09 s\n",
    "\n",
    "Total time: 0.015694 s\n",
    "File: /var/folders/pv/h9y4x0bx2jl7pk4_hr3nk3yr0000gn/T/ipykernel_52419/1463002585.py\n",
    "Function: calculate_mean_rating_v at line 34\n",
    "\n",
    "Line #      Hits         Time  Per Hit   % Time  Line Contents\n",
    "==============================================================\n",
    "    34                                           def calculate_mean_rating_v():\n",
    "    35         1   15399000.0 15399000.0     98.1      ratings_2010 = reviews.loc[reviews['date'].dt.year == 2010, 'rating']\n",
    "    36         1     295000.0 295000.0      1.9      return ratings_2010.mean()"
   ]
  },
  {
   "cell_type": "code",
   "execution_count": null,
   "metadata": {},
   "outputs": [],
   "source": [
    "Функция calculate_mean_rating_a заняла самое длительное время выполнения с общим временем в 5.2463 секунды. Большая часть времени (86%) затрачена на выполнение цикла for, который перебирает все отзывы и проверяет их год.\n",
    "\n",
    "Функция calculate_mean_rating_b выполнилась быстрее, занимая всего 0.544122 секунды. Большая часть времени (81.6%) затрачена на выполнение цикла for внутри DataFrame reviews_2010, который перебирает только отзывы за 2010 год.\n",
    "\n",
    "Функция calculate_mean_rating_v была самой быстрой с общим временем выполнения в 0.015694 секунды. Большая часть времени (98.1%) затрачена на выполнение строки 35, где создается серия ratings_2010 путем фильтрации и извлечения столбца 'rating' из DataFrame reviews.\n",
    "\n",
    "Вывод: метод В (calculate_mean_rating_v) является наиболее эффективным и быстрым для подсчета среднего значения столбца rating для отзывов за 2010 год."
   ]
  },
  {
   "cell_type": "code",
   "execution_count": 39,
   "metadata": {},
   "outputs": [
    {
     "name": "stdout",
     "output_type": "stream",
     "text": [
      "Средний Рейтинг (Метод Б): 4.4544402182900615\n",
      "Время Выполнения (Метод Б): 0.062436819076538086\n"
     ]
    }
   ],
   "source": [
    "#(*). Сможете ли вы ускорить работу функции 1Б, отказавшись от использования метода iterrows, но не используя метод mean?\n",
    "def calculate_mean_rating_b():\n",
    "    total_rating = reviews.loc[reviews['date'].dt.year == 2010, 'rating'].sum()\n",
    "    count = len(reviews.loc[reviews['date'].dt.year == 2010])\n",
    "    \n",
    "    if count > 0:\n",
    "        return total_rating / count\n",
    "    else:\n",
    "        return 0\n",
    "\n",
    "start_time_b = time.time()\n",
    "mean_rating_b = calculate_mean_rating_b()\n",
    "end_time_b = time.time()\n",
    "execution_time_b = end_time_b - start_time_b\n",
    "\n",
    "print(\"Средний Рейтинг (Метод Б):\", mean_rating_b)\n",
    "print(\"Время Выполнения (Метод Б):\", execution_time_b)"
   ]
  },
  {
   "cell_type": "markdown",
   "metadata": {},
   "source": [
    "3. Вам предлагается воспользоваться функцией, которая собирает статистику о том, сколько отзывов содержат то или иное слово. Измерьте время выполнения этой функции. Сможете ли вы найти узкие места в коде, используя профайлер? Выпишите (словами), что в имеющемся коде реализовано неоптимально. Оптимизируйте функцию и добейтесь значительного (как минимум, на один порядок) прироста в скорости выполнения."
   ]
  },
  {
   "cell_type": "code",
   "execution_count": 49,
   "metadata": {},
   "outputs": [
    {
     "name": "stdout",
     "output_type": "stream",
     "text": [
      "Timer unit: 1e-09 s\n",
      "\n",
      "Total time: 0.008767 s\n",
      "File: /var/folders/pv/h9y4x0bx2jl7pk4_hr3nk3yr0000gn/T/ipykernel_52419/54127026.py\n",
      "Function: get_word_reviews_count at line 1\n",
      "\n",
      "Line #      Hits         Time  Per Hit   % Time  Line Contents\n",
      "==============================================================\n",
      "     1                                           def get_word_reviews_count(df):\n",
      "     2         1       3000.0   3000.0      0.0      word_reviews = {}\n",
      "     3         3    4804000.0 1601333.3     54.8      for _, row in df.dropna(subset=['review']).iterrows():\n",
      "     4         3     164000.0  54666.7      1.9          recipe_id, review = row['recipe_id'], row['review']\n",
      "     5         3       6000.0   2000.0      0.1          words = review.split(' ')\n",
      "     6        10       7000.0    700.0      0.1          for word in words:\n",
      "     7        10       5000.0    500.0      0.1              if word not in word_reviews:\n",
      "     8        10       9000.0    900.0      0.1                  word_reviews[word] = []\n",
      "     9        10      10000.0   1000.0      0.1              word_reviews[word].append(recipe_id)\n",
      "    10                                               \n",
      "    11         1          0.0      0.0      0.0      word_reviews_count = {}\n",
      "    12         3    3679000.0 1226333.3     42.0      for _, row in df.dropna(subset=['review']).iterrows():\n",
      "    13         3      65000.0  21666.7      0.7          review = row['review']\n",
      "    14         3       3000.0   1000.0      0.0          words = review.split(' ')\n",
      "    15        10       3000.0    300.0      0.0          for word in words:\n",
      "    16        10       9000.0    900.0      0.1              word_reviews_count[word] = len(word_reviews[word])\n",
      "    17         1          0.0      0.0      0.0      return word_reviews_count\n",
      "\n"
     ]
    }
   ],
   "source": [
    "# Исходная функция\n",
    "def get_word_reviews_count(df):\n",
    "    word_reviews = {}\n",
    "    for _, row in df.dropna(subset=['review']).iterrows():\n",
    "        recipe_id, review = row['recipe_id'], row['review']\n",
    "        words = review.split(' ')\n",
    "        for word in words:\n",
    "            if word not in word_reviews:\n",
    "                word_reviews[word] = []\n",
    "            word_reviews[word].append(recipe_id)\n",
    "    \n",
    "    word_reviews_count = {}\n",
    "    for _, row in df.dropna(subset=['review']).iterrows():\n",
    "        review = row['review']\n",
    "        words = review.split(' ')\n",
    "        for word in words:\n",
    "            word_reviews_count[word] = len(word_reviews[word])\n",
    "    return word_reviews_count\n",
    "\n",
    "# Создаем тестовые данные\n",
    "data = {\n",
    "    'recipe_id': [1, 2, 3],\n",
    "    'review': ['This is a great recipe', 'I loved it', 'Awesome dish']\n",
    "}\n",
    "df = pd.DataFrame(data)\n",
    "\n",
    "# Создаем экземпляр профайлера\n",
    "profiler = LineProfiler()\n",
    "# Добавляем функцию для профилирования\n",
    "profiler.add_function(get_word_reviews_count)\n",
    "\n",
    "# Запускаем профайлер для функции\n",
    "profiler.enable_by_count()\n",
    "word_reviews_count = get_word_reviews_count(df)\n",
    "profiler.disable_by_count()\n",
    "\n",
    "# Выводим результаты профилирования\n",
    "profiler.print_stats()"
   ]
  },
  {
   "cell_type": "code",
   "execution_count": 48,
   "metadata": {},
   "outputs": [
    {
     "name": "stdout",
     "output_type": "stream",
     "text": [
      "Timer unit: 1e-09 s\n",
      "\n",
      "Total time: 0.019415 s\n",
      "File: /var/folders/pv/h9y4x0bx2jl7pk4_hr3nk3yr0000gn/T/ipykernel_52419/66528425.py\n",
      "Function: get_word_reviews_count at line 6\n",
      "\n",
      "Line #      Hits         Time  Per Hit   % Time  Line Contents\n",
      "==============================================================\n",
      "     6                                           def get_word_reviews_count(df):\n",
      "     7         1       4000.0   4000.0      0.0      word_reviews = defaultdict(list)\n",
      "     8         1       1000.0   1000.0      0.0      word_reviews_count = {}\n",
      "     9                                               \n",
      "    10         3   18979000.0 6326333.3     97.8      for _, row in df.dropna(subset=['review']).iterrows():\n",
      "    11         3     415000.0 138333.3      2.1          recipe_id, review = row['recipe_id'], row['review']\n",
      "    12         3       1000.0    333.3      0.0          words = review.split(' ')\n",
      "    13        10       2000.0    200.0      0.0          for word in set(words):\n",
      "    14        10       7000.0    700.0      0.0              word_reviews[word].append(recipe_id)\n",
      "    15                                               \n",
      "    16        10       5000.0    500.0      0.0      for word, reviews in word_reviews.items():\n",
      "    17        10       1000.0    100.0      0.0          word_reviews_count[word] = len(reviews)\n",
      "    18                                               \n",
      "    19         1          0.0      0.0      0.0      return word_reviews_count\n",
      "\n"
     ]
    }
   ],
   "source": [
    "from collections import defaultdict\n",
    "\n",
    "# Оптимизированная функция\n",
    "def get_word_reviews_count(df):\n",
    "    word_reviews = defaultdict(list)\n",
    "    word_reviews_count = {}\n",
    "    \n",
    "    for _, row in df.dropna(subset=['review']).iterrows():\n",
    "        recipe_id, review = row['recipe_id'], row['review']\n",
    "        words = review.split(' ')\n",
    "        for word in set(words):\n",
    "            word_reviews[word].append(recipe_id)\n",
    "    \n",
    "    for word, reviews in word_reviews.items():\n",
    "        word_reviews_count[word] = len(reviews)\n",
    "    \n",
    "    return word_reviews_count\n",
    "\n",
    "\n",
    "# Создаем тестовые данные\n",
    "data = {\n",
    "    'recipe_id': [1, 2, 3],\n",
    "    'review': ['This is a great recipe', 'I loved it', 'Awesome dish']\n",
    "}\n",
    "df = pd.DataFrame(data)\n",
    "\n",
    "# Создаем экземпляр профайлера\n",
    "profiler = LineProfiler()\n",
    "# Добавляем функцию для профилирования\n",
    "profiler.add_function(get_word_reviews_count)\n",
    "\n",
    "# Запускаем профайлер для функции\n",
    "profiler.enable_by_count()\n",
    "word_reviews_count = get_word_reviews_count(df)\n",
    "profiler.disable_by_count()\n",
    "\n",
    "# Выводим результаты профилирования\n",
    "profiler.print_stats()\n"
   ]
  },
  {
   "cell_type": "markdown",
   "metadata": {},
   "source": [
    "4. Напишите несколько версий функции `MAPE` (см. [MAPE](https://en.wikipedia.org/wiki/Mean_absolute_percentage_error)) для расчета среднего абсолютного процентного отклонения значения рейтинга отзыва на рецепт от среднего значения рейтинга по всем отзывам для этого рецепта. \n",
    "    1. Без использования векторизованных операций и методов массивов `numpy` и без использования `numba`\n",
    "    2. Без использования векторизованных операций и методов массивов `numpy`, но с использованием `numba`\n",
    "    3. С использованием векторизованных операций и методов массивов `numpy`, но без использования `numba`\n",
    "    4. C использованием векторизованных операций и методов массивов `numpy` и `numba`\n",
    "    \n",
    "Измерьте время выполнения каждой из реализаций.\n",
    "\n",
    "Замечание: удалите из выборки отзывы с нулевым рейтингом.\n"
   ]
  },
  {
   "cell_type": "code",
   "execution_count": 51,
   "metadata": {},
   "outputs": [
    {
     "name": "stdout",
     "output_type": "stream",
     "text": [
      "Время выполнения без numpy и numba: 8.34710693359375\n",
      "Время выполнения с numba: 0.35779404640197754\n",
      "Время выполнения с numpy: 0.0008080005645751953\n",
      "Время выполнения с numpy и numba: 0.14406394958496094\n"
     ]
    }
   ],
   "source": [
    "import numpy as np\n",
    "import pandas as pd\n",
    "import numba\n",
    "import time\n",
    "\n",
    "# Загрузка данных из файла\n",
    "data = pd.read_csv('reviews_sample.csv')\n",
    "\n",
    "# Извлечение столбца \"rating\" как массива\n",
    "ratings = data['rating'].values\n",
    "\n",
    "# Удаление отзывов с нулевым рейтингом\n",
    "ratings = ratings[ratings != 0]\n",
    "\n",
    "# Определение функций MAPE\n",
    "def MAPE_basic(ratings):\n",
    "    total = 0\n",
    "    count = 0\n",
    "    for rating in ratings:\n",
    "        total += abs(rating - np.mean(ratings))\n",
    "        count += 1\n",
    "    return (total / count) * 100\n",
    "\n",
    "@numba.jit(nopython=True)\n",
    "def MAPE_numba(ratings):\n",
    "    total = 0\n",
    "    count = 0\n",
    "    mean_rating = np.mean(ratings)\n",
    "    for rating in ratings:\n",
    "        total += abs(rating - mean_rating)\n",
    "        count += 1\n",
    "    return (total / count) * 100\n",
    "\n",
    "def MAPE_numpy(ratings):\n",
    "    mean_rating = np.mean(ratings)\n",
    "    absolute_diff = np.abs(ratings - mean_rating)\n",
    "    return (np.mean(absolute_diff) / mean_rating) * 100\n",
    "\n",
    "@numba.jit(nopython=True)\n",
    "def MAPE_numpy_numba(ratings):\n",
    "    mean_rating = np.mean(ratings)\n",
    "    absolute_diff = np.abs(ratings - mean_rating)\n",
    "    return (np.mean(absolute_diff) / mean_rating) * 100\n",
    "\n",
    "# Измерение времени выполнения для каждой реализации\n",
    "start_time = time.time()\n",
    "MAPE_basic(ratings)\n",
    "elapsed_time = time.time() - start_time\n",
    "print(\"Время выполнения без numpy и numba:\", elapsed_time)\n",
    "\n",
    "start_time = time.time()\n",
    "MAPE_numba(ratings)\n",
    "elapsed_time = time.time() - start_time\n",
    "print(\"Время выполнения с numba:\", elapsed_time)\n",
    "\n",
    "start_time = time.time()\n",
    "MAPE_numpy(ratings)\n",
    "elapsed_time = time.time() - start_time\n",
    "print(\"Время выполнения с numpy:\", elapsed_time)\n",
    "\n",
    "start_time = time.time()\n",
    "MAPE_numpy_numba(ratings)\n",
    "elapsed_time = time.time() - start_time\n",
    "print(\"Время выполнения с numpy и numba:\", elapsed_time)"
   ]
  }
 ],
 "metadata": {
  "kernelspec": {
   "display_name": "Python 3 (ipykernel)",
   "language": "python",
   "name": "python3"
  },
  "language_info": {
   "codemirror_mode": {
    "name": "ipython",
    "version": 3
   },
   "file_extension": ".py",
   "mimetype": "text/x-python",
   "name": "python",
   "nbconvert_exporter": "python",
   "pygments_lexer": "ipython3",
   "version": "3.9.12"
  }
 },
 "nbformat": 4,
 "nbformat_minor": 4
}
