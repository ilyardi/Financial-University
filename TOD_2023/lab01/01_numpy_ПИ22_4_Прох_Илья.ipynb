{
  "cells": [
    {
      "cell_type": "markdown",
      "metadata": {
        "id": "VldncoDmRAmX"
      },
      "source": [
        "# Numpy"
      ]
    },
    {
      "cell_type": "markdown",
      "metadata": {
        "id": "9U0NHtwCRAmZ"
      },
      "source": [
        "Материалы:\n",
        "* Макрушин С.В. \"Лекция 1: Библиотека Numpy\"\n",
        "* https://numpy.org/doc/stable/user/index.html\n",
        "* https://numpy.org/doc/stable/reference/index.html"
      ]
    },
    {
      "cell_type": "markdown",
      "metadata": {
        "id": "Ke5-QcB6RAmb"
      },
      "source": [
        "## Задачи для совместного разбора"
      ]
    },
    {
      "cell_type": "markdown",
      "metadata": {
        "id": "n-IzF3xpRAmb"
      },
      "source": [
        "1. Сгенерировать двухмерный массив `arr` размерности (4, 7), состоящий из случайных действительных чисел, равномерно распределенных в диапазоне от 0 до 20. Нормализовать значения массива с помощью преобразования вида  $𝑎𝑥+𝑏$  так, что после нормализации максимальный элемент масcива будет равен 1.0, минимальный 0.0"
      ]
    },
    {
      "cell_type": "code",
      "execution_count": null,
      "metadata": {
        "id": "lDnwxX_WRAmc"
      },
      "outputs": [],
      "source": []
    },
    {
      "cell_type": "markdown",
      "metadata": {
        "id": "Tk2OLxdGRAmd"
      },
      "source": [
        "2. Создать матрицу 8 на 10 из случайных целых (используя модуль `numpy.random`) чисел из диапозона от 0 до 10 и найти в ней строку (ее индекс и вывести саму строку), в которой сумма значений минимальна."
      ]
    },
    {
      "cell_type": "markdown",
      "metadata": {
        "id": "0JEyqPcrRAmd"
      },
      "source": [
        "3. Найти евклидово расстояние между двумя одномерными векторами одинаковой размерности."
      ]
    },
    {
      "cell_type": "markdown",
      "metadata": {
        "id": "g-LK7KZLRAmd"
      },
      "source": [
        "4. Решить матричное уравнение `A*X*B=-C` - найти матрицу `X`. Где `A = [[-1, 2, 4], [-3, 1, 2], [-3, 0, 1]]`, `B=[[3, -1], [2, 1]]`, `C=[[7, 21], [11, 8], [8, 4]]`."
      ]
    },
    {
      "cell_type": "markdown",
      "metadata": {
        "id": "6KYmaZB5RAme"
      },
      "source": [
        "## Лабораторная работа №1"
      ]
    },
    {
      "cell_type": "code",
      "source": [
        "!pip install numpy"
      ],
      "metadata": {
        "id": "3XUDFFCERRTq"
      },
      "execution_count": null,
      "outputs": []
    },
    {
      "cell_type": "code",
      "source": [
        "import numpy as np"
      ],
      "metadata": {
        "id": "UtqL42XzRSUT"
      },
      "execution_count": 217,
      "outputs": []
    },
    {
      "cell_type": "markdown",
      "metadata": {
        "id": "tJ_9fa6lRAmf"
      },
      "source": [
        "Замечание: при решении данных задач не подразумевается использования циклов или генераторов Python, если в задании не сказано обратного. Решение должно опираться на использования функционала библиотеки `numpy`."
      ]
    },
    {
      "cell_type": "markdown",
      "metadata": {
        "id": "Q-kIHwgeRAmf"
      },
      "source": [
        "1. Файл `minutes_n_ingredients.csv` содержит информацию об идентификаторе рецепта, времени его выполнения в минутах и количестве необходимых ингредиентов. Считайте данные из этого файла в виде массива `numpy` типа `int32`, используя `np.loadtxt`. Выведите на экран первые 5 строк массива."
      ]
    },
    {
      "cell_type": "code",
      "source": [
        "data = np.loadtxt('data/minutes_n_ingredients.csv', dtype=int, delimiter=',', skiprows=1)\n",
        "data[:5]"
      ],
      "metadata": {
        "colab": {
          "base_uri": "https://localhost:8080/"
        },
        "id": "5CmSdpG_RYjh",
        "outputId": "f5362391-b05a-42bc-a1b1-6394e505b86f"
      },
      "execution_count": 218,
      "outputs": [
        {
          "output_type": "execute_result",
          "data": {
            "text/plain": [
              "array([[127244,     60,     16],\n",
              "       [ 23891,     25,      7],\n",
              "       [ 94746,     10,      6],\n",
              "       [ 67660,      5,      6],\n",
              "       [157911,     60,     14]])"
            ]
          },
          "metadata": {},
          "execution_count": 218
        }
      ]
    },
    {
      "cell_type": "markdown",
      "metadata": {
        "id": "pP_Oe95ARAmg"
      },
      "source": [
        "2. Вычислите среднее значение, минимум, максимум и медиану по каждому из столбцов, кроме первого."
      ]
    },
    {
      "cell_type": "code",
      "source": [
        "rows, columns = data.shape\n",
        "print('Всего', columns, 'столбца', end='\\n\\n')\n",
        "\n",
        "column = 1\n",
        "print(f'среднее значение: {np.mean(data[:, column])}', f'минимум: {np.min(data[:, column])}', f'максимум: {np.max(data[:, column])}', f'медиана: {np.median(data[:, column])}', sep='\\n', end='\\n\\n')\n",
        "\n",
        "column = 2\n",
        "print(f'среднее значение: {np.mean(data[:, column])}', f'минимум: {np.min(data[:, column])}', f'максимум: {np.max(data[:, column])}', f'медиана: {np.median(data[:, column])}', sep='\\n', end='\\n\\n')"
      ],
      "metadata": {
        "colab": {
          "base_uri": "https://localhost:8080/"
        },
        "id": "BFTE8uxURwZv",
        "outputId": "2dcc058e-6043-4753-dbb0-04966d9d0858"
      },
      "execution_count": 219,
      "outputs": [
        {
          "output_type": "stream",
          "name": "stdout",
          "text": [
            "Всего 3 столбца\n",
            "\n",
            "среднее значение: 21601.00169\n",
            "минимум: 0\n",
            "максимум: 2147483647\n",
            "медиана: 40.0\n",
            "\n",
            "среднее значение: 9.05528\n",
            "минимум: 1\n",
            "максимум: 39\n",
            "медиана: 9.0\n",
            "\n"
          ]
        }
      ]
    },
    {
      "cell_type": "markdown",
      "metadata": {
        "id": "8qAC6NQ5RAmg"
      },
      "source": [
        "3. Ограничьте сверху значения продолжительности выполнения рецепта значением квантиля $q_{0.75}$. "
      ]
    },
    {
      "cell_type": "code",
      "source": [
        "q = np.quantile(data[:,1], 0.75)\n",
        "ogr = data[:,1] <= q\n",
        "data[ogr]"
      ],
      "metadata": {
        "colab": {
          "base_uri": "https://localhost:8080/"
        },
        "id": "6RJU92TL4vmS",
        "outputId": "4a02dde0-84e3-4f2f-9b03-b3668a5f7507"
      },
      "execution_count": 220,
      "outputs": [
        {
          "output_type": "execute_result",
          "data": {
            "text/plain": [
              "array([[127244,     60,     16],\n",
              "       [ 23891,     25,      7],\n",
              "       [ 94746,     10,      6],\n",
              "       ...,\n",
              "       [ 43407,     35,      7],\n",
              "       [498432,     65,     15],\n",
              "       [370915,      5,      4]])"
            ]
          },
          "metadata": {},
          "execution_count": 220
        }
      ]
    },
    {
      "cell_type": "markdown",
      "metadata": {
        "id": "uVP3MwF3RAmh"
      },
      "source": [
        "4. Посчитайте, для скольких рецептов указана продолжительность, равная нулю. Замените для таких строк значение в данном столбце на 1."
      ]
    },
    {
      "cell_type": "code",
      "source": [
        "no_zeros = data.copy()\n",
        "zero_in_column = no_zeros[:, 1] == 0\n",
        "count_zeros = np.count_nonzero(zero_in_column)\n",
        "no_zeros[:, 1][zero_in_column] = 1\n",
        "\n",
        "print(count_zeros, no_zeros, sep='\\n')"
      ],
      "metadata": {
        "colab": {
          "base_uri": "https://localhost:8080/"
        },
        "id": "lEc8iqKG6MWh",
        "outputId": "338d7384-ff48-4c2e-e93b-fda66985fa63"
      },
      "execution_count": 221,
      "outputs": [
        {
          "output_type": "stream",
          "name": "stdout",
          "text": [
            "479\n",
            "[[127244     60     16]\n",
            " [ 23891     25      7]\n",
            " [ 94746     10      6]\n",
            " ...\n",
            " [498432     65     15]\n",
            " [370915      5      4]\n",
            " [ 81993    140     14]]\n"
          ]
        }
      ]
    },
    {
      "cell_type": "markdown",
      "metadata": {
        "id": "wU5MKs5kRAmh"
      },
      "source": [
        "5. Посчитайте, сколько уникальных рецептов находится в датасете."
      ]
    },
    {
      "cell_type": "code",
      "source": [
        "unique_rec = np.unique(data[:, 1:], axis=0).shape[0]\n",
        "print(unique_rec)"
      ],
      "metadata": {
        "colab": {
          "base_uri": "https://localhost:8080/"
        },
        "id": "5QeekFfzCnkj",
        "outputId": "df307a53-1cf7-4908-b41b-b4813fa7fe7a"
      },
      "execution_count": 222,
      "outputs": [
        {
          "output_type": "stream",
          "name": "stdout",
          "text": [
            "4195\n"
          ]
        }
      ]
    },
    {
      "cell_type": "markdown",
      "metadata": {
        "id": "YjdUtmRiRAmh"
      },
      "source": [
        "6. Сколько и каких различных значений кол-ва ингредиентов присутвует в рецептах из датасета?"
      ]
    },
    {
      "cell_type": "code",
      "source": [
        "unique_ingredients = np.unique(data[:, 2])\n",
        "col_unique_ingredients = unique_ingredients.shape[0]\n",
        "print('Сколько:', col_unique_ingredients, 'Каких:', unique_ingredients, sep='\\n')"
      ],
      "metadata": {
        "colab": {
          "base_uri": "https://localhost:8080/"
        },
        "id": "X1CZhulOFWNv",
        "outputId": "119f4c82-4747-46b5-8d89-b8041a5a2596"
      },
      "execution_count": 223,
      "outputs": [
        {
          "output_type": "stream",
          "name": "stdout",
          "text": [
            "Сколько:\n",
            "37\n",
            "Каких:\n",
            "[ 1  2  3  4  5  6  7  8  9 10 11 12 13 14 15 16 17 18 19 20 21 22 23 24\n",
            " 25 26 27 28 29 30 31 32 33 34 35 37 39]\n"
          ]
        }
      ]
    },
    {
      "cell_type": "markdown",
      "metadata": {
        "id": "k9btunLWRAmi"
      },
      "source": [
        "7. Создайте версию массива, содержащую информацию только о рецептах, состоящих не более чем из 5 ингредиентов."
      ]
    },
    {
      "cell_type": "code",
      "source": [
        "not_more_5 = data.copy()\n",
        "not_more_5 = not_more_5[not_more_5[:, 2] <= 5]\n",
        "print(not_more_5)"
      ],
      "metadata": {
        "colab": {
          "base_uri": "https://localhost:8080/"
        },
        "id": "e0C7Z1IdGdGe",
        "outputId": "e8db8651-f801-47f4-8005-239fca13d073"
      },
      "execution_count": 224,
      "outputs": [
        {
          "output_type": "stream",
          "name": "stdout",
          "text": [
            "[[446597     15      5]\n",
            " [204134      5      3]\n",
            " [ 25623      6      4]\n",
            " ...\n",
            " [ 52088     60      5]\n",
            " [128811     15      4]\n",
            " [370915      5      4]]\n"
          ]
        }
      ]
    },
    {
      "cell_type": "markdown",
      "metadata": {
        "id": "vSq9wxEIRAmj"
      },
      "source": [
        "8. Для каждого рецепта посчитайте, сколько в среднем ингредиентов приходится на одну минуту рецепта. Найдите максимальное значение этой величины для всего датасета"
      ]
    },
    {
      "cell_type": "code",
      "source": [
        "sred = no_zeros[:,2]/no_zeros[:,1]\n",
        "print('Для каждого:', sred, 'Максимальное значение:', max(sred), sep='\\n')"
      ],
      "metadata": {
        "colab": {
          "base_uri": "https://localhost:8080/"
        },
        "id": "YtJyxX6nHzNT",
        "outputId": "c814ee13-b227-4d46-c4a6-1202745ff3f5"
      },
      "execution_count": 225,
      "outputs": [
        {
          "output_type": "stream",
          "name": "stdout",
          "text": [
            "Для каждого:\n",
            "[0.26666667 0.28       0.6        ... 0.23076923 0.8        0.1       ]\n",
            "Максимальное значение:\n",
            "24.0\n"
          ]
        }
      ]
    },
    {
      "cell_type": "markdown",
      "metadata": {
        "id": "mJ2JT5kyRAmj"
      },
      "source": [
        "9. Вычислите среднее количество ингредиентов для топ-100 рецептов с наибольшей продолжительностью"
      ]
    },
    {
      "cell_type": "code",
      "source": [
        "top = data[data[:, 1].argsort()[::-1]][:100]\n",
        "print(top[:,1].mean())"
      ],
      "metadata": {
        "colab": {
          "base_uri": "https://localhost:8080/"
        },
        "id": "rx1YkvSjOtEx",
        "outputId": "f86b5578-62b9-4ba0-9576-ce36fe97f74c"
      },
      "execution_count": 226,
      "outputs": [
        {
          "output_type": "stream",
          "name": "stdout",
          "text": [
            "21518445.39\n"
          ]
        }
      ]
    },
    {
      "cell_type": "markdown",
      "metadata": {
        "id": "3LEwPbJjRAmj"
      },
      "source": [
        "10. Выберите случайным образом и выведите информацию о 10 различных рецептах"
      ]
    },
    {
      "cell_type": "code",
      "source": [
        "rnd = data[np.random.randint(data.shape[0], size=10)]\n",
        "print(rnd)"
      ],
      "metadata": {
        "colab": {
          "base_uri": "https://localhost:8080/"
        },
        "id": "3gv7ja-sSUtt",
        "outputId": "ab575c46-bab0-498b-a1c7-f6572fbb3e5a"
      },
      "execution_count": 227,
      "outputs": [
        {
          "output_type": "stream",
          "name": "stdout",
          "text": [
            "[[ 95481     45     12]\n",
            " [496609     15      3]\n",
            " [250376     70      6]\n",
            " [ 58559     10      7]\n",
            " [199054     75     14]\n",
            " [159408     30      8]\n",
            " [218084     65     13]\n",
            " [104431    140     11]\n",
            " [ 67169     30      7]\n",
            " [ 74211     85      8]]\n"
          ]
        }
      ]
    },
    {
      "cell_type": "markdown",
      "metadata": {
        "id": "QrCUm74vRAmk"
      },
      "source": [
        "11. Выведите процент рецептов, кол-во ингредиентов в которых меньше среднего."
      ]
    },
    {
      "cell_type": "code",
      "source": [
        "sred = np.mean(data[:, 2])\n",
        "less = data[:,2] < sred\n",
        "count_less = np.count_nonzero(less)\n",
        "print(count_less / data.shape[0] *100, '%')"
      ],
      "metadata": {
        "colab": {
          "base_uri": "https://localhost:8080/"
        },
        "id": "NvzdvNaSUaWJ",
        "outputId": "3a541869-9fc1-4d07-bcdc-e056667086f9"
      },
      "execution_count": 228,
      "outputs": [
        {
          "output_type": "stream",
          "name": "stdout",
          "text": [
            "58.802 %\n"
          ]
        }
      ]
    },
    {
      "cell_type": "markdown",
      "metadata": {
        "id": "4R-ANVBIRAmk"
      },
      "source": [
        "12. Назовем \"простым\" такой рецепт, длительность выполнения которого не больше 20 минут и кол-во ингредиентов в котором не больше 5. Создайте версию датасета с дополнительным столбцом, значениями которого являются 1, если рецепт простой, и 0 в противном случае."
      ]
    },
    {
      "cell_type": "code",
      "source": [
        "prost = data.copy()\n",
        "mask = (data[:, 1] <= 20) & (data[:, 2] <= 5)\n",
        "new_col = mask.astype(int)\n",
        "prost = np.column_stack([prost, new_col])\n",
        "print(prost)"
      ],
      "metadata": {
        "colab": {
          "base_uri": "https://localhost:8080/"
        },
        "id": "-g0GgK_FX28Z",
        "outputId": "15300752-d37f-41f5-e444-7d2ff5cdac87"
      },
      "execution_count": 229,
      "outputs": [
        {
          "output_type": "stream",
          "name": "stdout",
          "text": [
            "[[127244     60     16      0]\n",
            " [ 23891     25      7      0]\n",
            " [ 94746     10      6      0]\n",
            " ...\n",
            " [498432     65     15      0]\n",
            " [370915      5      4      1]\n",
            " [ 81993    140     14      0]]\n"
          ]
        }
      ]
    },
    {
      "cell_type": "markdown",
      "metadata": {
        "id": "lppKROyLRAml"
      },
      "source": [
        "13. Выведите процент \"простых\" рецептов в датасете"
      ]
    },
    {
      "cell_type": "code",
      "source": [
        "edinic = prost[:,3] == 1\n",
        "count_edinic = np.count_nonzero(edinic)\n",
        "print(count_edinic / prost.shape[0] *100, '%')"
      ],
      "metadata": {
        "colab": {
          "base_uri": "https://localhost:8080/"
        },
        "id": "6lFnygVUbGup",
        "outputId": "7ee2092c-31c4-4101-e3ef-15660f6c236c"
      },
      "execution_count": 230,
      "outputs": [
        {
          "output_type": "stream",
          "name": "stdout",
          "text": [
            "9.552 %\n"
          ]
        }
      ]
    },
    {
      "cell_type": "markdown",
      "metadata": {
        "id": "_ZztU4TuRAml"
      },
      "source": [
        "14. Разделим рецепты на группы по следующему правилу. Назовем рецепты \n",
        "короткими, если их продолжительность составляет менее 10 минут; \n",
        "стандартными, если их продолжительность составляет более 10, но менее 20 минут; \n",
        "и длинными, если их продолжительность составляет не менее 20 минут. \n",
        "Создайте трехмерный массив, где нулевая ось отвечает за номер группы (короткий, стандартный или длинный рецепт), первая ось - за сам рецепт и вторая ось - за характеристики рецепта. Выберите максимальное количество рецептов из каждой группы таким образом, чтобы было возможно сформировать трехмерный массив. Выведите форму полученного массива."
      ]
    },
    {
      "cell_type": "code",
      "source": [
        "short_group = data[data[:,1] < 10]\n",
        "mask = (data[:,1] >= 10) & (data[:,1] < 20)\n",
        "standart_group = data[mask]\n",
        "long_group = data[data[:,1] >= 20]\n",
        "\n",
        "min_amount = min(short_group.shape[0], standart_group.shape[0], long_group.shape[0])\n",
        "final = np.array([short_group[:min_amount], standart_group[:min_amount], long_group[:min_amount]])\n",
        "print(final)"
      ],
      "metadata": {
        "colab": {
          "base_uri": "https://localhost:8080/"
        },
        "id": "C3ZG53qEckCC",
        "outputId": "bf20b7a2-ab3c-4fe8-f829-8ebd51a48bc7"
      },
      "execution_count": 231,
      "outputs": [
        {
          "output_type": "stream",
          "name": "stdout",
          "text": [
            "[[[ 67660      5      6]\n",
            "  [366174      7      9]\n",
            "  [204134      5      3]\n",
            "  ...\n",
            "  [420725      5      3]\n",
            "  [  4747      0      9]\n",
            "  [370915      5      4]]\n",
            "\n",
            " [[ 94746     10      6]\n",
            "  [ 33941     18      9]\n",
            "  [446597     15      5]\n",
            "  ...\n",
            "  [  9831     15      7]\n",
            "  [335859     12     14]\n",
            "  [256812     10      3]]\n",
            "\n",
            " [[127244     60     16]\n",
            "  [ 23891     25      7]\n",
            "  [157911     60     14]\n",
            "  ...\n",
            "  [168901     25      7]\n",
            "  [392339     35     13]\n",
            "  [206732     45     10]]]\n"
          ]
        }
      ]
    }
  ],
  "metadata": {
    "kernelspec": {
      "display_name": "Python 3",
      "language": "python",
      "name": "python3"
    },
    "language_info": {
      "codemirror_mode": {
        "name": "ipython",
        "version": 3
      },
      "file_extension": ".py",
      "mimetype": "text/x-python",
      "name": "python",
      "nbconvert_exporter": "python",
      "pygments_lexer": "ipython3",
      "version": "3.7.6"
    },
    "colab": {
      "provenance": []
    }
  },
  "nbformat": 4,
  "nbformat_minor": 0
}