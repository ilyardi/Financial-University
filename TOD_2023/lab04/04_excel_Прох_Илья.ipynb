{
 "cells": [
  {
   "cell_type": "markdown",
   "metadata": {},
   "source": [
    "# Работа с Excel"
   ]
  },
  {
   "cell_type": "markdown",
   "metadata": {},
   "source": [
    "Материалы:\n",
    "* Макрушин С.В. Лекция 7: Работа с Excel\n",
    "* https://docs.xlwings.org/en/stable/quickstart.html\n",
    "* https://nbviewer.jupyter.org/github/pybokeh/jupyter_notebooks/blob/master/xlwings/Excel_Formatting.ipynb#search_text\n"
   ]
  },
  {
   "cell_type": "markdown",
   "metadata": {},
   "source": [
    "## Задачи для совместного разбора"
   ]
  },
  {
   "cell_type": "markdown",
   "metadata": {},
   "source": [
    "1. На листе \"Рецептура\" файла `себестоимостьА_в1.xlsx` для области \"Пшеничный хлеб\" рассчитать себестоимость всех видов продукции."
   ]
  },
  {
   "cell_type": "markdown",
   "metadata": {},
   "source": [
    "2. Результаты расчетов 1.1 сохранить в отдельном столбце области \"Пшеничный хлеб\""
   ]
  },
  {
   "cell_type": "markdown",
   "metadata": {},
   "source": [
    "3. Приблизить форматирование столбца, добавленного в задаче 2 к оформлению всей области."
   ]
  },
  {
   "cell_type": "markdown",
   "metadata": {},
   "source": [
    "4. Выполнить 3 с помощью \"протягиваемых\" формул."
   ]
  },
  {
   "cell_type": "markdown",
   "metadata": {},
   "source": [
    "## Лабораторная работа 7.1"
   ]
  },
  {
   "cell_type": "markdown",
   "metadata": {},
   "source": [
    "1. Загрузите данные из файлов `reviews_sample.csv` (__ЛР2__) и `recipes_sample.csv` (__ЛР5__) в виде `pd.DataFrame`. Обратите внимание на корректное считывание столбца(ов) с индексами. Оставьте в таблице с рецептами следующие столбцы: `id`, `name`, `minutes`, `submitted`, `description`, `n_ingredients`"
   ]
  },
  {
   "cell_type": "code",
   "execution_count": 99,
   "metadata": {},
   "outputs": [
    {
     "name": "stdout",
     "output_type": "stream",
     "text": [
      "                                           name  minutes   submitted  \\\n",
      "id                                                                     \n",
      "44123     george s at the cove  black bean soup       90  2002-10-25   \n",
      "67664        healthy for them  yogurt popsicles       10  2003-07-26   \n",
      "38798              i can t believe it s spinach       30  2002-08-29   \n",
      "35173                      italian  gut busters       45  2002-07-27   \n",
      "84797  love is in the air  beef fondue   sauces       25  2004-02-23   \n",
      "\n",
      "                                             description  n_ingredients  \n",
      "id                                                                       \n",
      "44123  an original recipe created by chef scott meska...           18.0  \n",
      "67664  my children and their friends ask for my homem...            NaN  \n",
      "38798            these were so go, it surprised even me.            8.0  \n",
      "35173  my sister-in-law made these for us at a family...            NaN  \n",
      "84797  i think a fondue is a very romantic casual din...            NaN  \n"
     ]
    }
   ],
   "source": [
    "import pandas as pd\n",
    "\n",
    "# Загрузка данных\n",
    "recipes = pd.read_csv('recipes_sample.csv', index_col='id')\n",
    "reviews = pd.read_csv('reviews_sample.csv', index_col=0)\n",
    "\n",
    "# Оставление только нужных столбцов в таблице с рецептами\n",
    "recipes = recipes[['name', 'minutes', 'submitted', 'description', 'n_ingredients']]\n",
    "\n",
    "# Вывод первых 5 строк таблицы\n",
    "print(recipes.head())"
   ]
  },
  {
   "cell_type": "markdown",
   "metadata": {},
   "source": [
    "2. Случайным образом выберите 5% строк из каждой таблицы и сохраните две таблицы на разные листы в один файл `recipes.xlsx`. Дайте листам названия \"Рецепты\" и \"Отзывы\", соответствующие содержанию таблиц. "
   ]
  },
  {
   "cell_type": "code",
   "execution_count": 100,
   "metadata": {},
   "outputs": [],
   "source": [
    "from openpyxl import Workbook\n",
    "\n",
    "# Загрузка данных\n",
    "recipes = pd.read_csv('recipes_sample.csv', index_col='id')\n",
    "reviews = pd.read_csv('reviews_sample.csv', index_col=0)\n",
    "\n",
    "# Случайный выбор 5% строк из каждой таблицы\n",
    "recipes_sample = recipes.sample(frac=0.05)\n",
    "reviews_sample = reviews.sample(frac=0.05)\n",
    "\n",
    "# Создание файла Excel\n",
    "writer = pd.ExcelWriter('recipes.xlsx', engine='openpyxl')\n",
    "\n",
    "# Сохранение таблиц на разные листы\n",
    "recipes_sample.to_excel(writer, sheet_name='Рецепты')\n",
    "reviews_sample.to_excel(writer, sheet_name='Отзывы')\n",
    "\n",
    "# Назначение названий листов\n",
    "workbook = writer.book\n",
    "worksheet1 = writer.sheets['Рецепты']\n",
    "worksheet2 = writer.sheets['Отзывы']\n",
    "\n",
    "# Сохранение файла\n",
    "writer.save()"
   ]
  },
  {
   "cell_type": "markdown",
   "metadata": {},
   "source": [
    "3. Используя `xlwings`, добавьте на лист `Рецепты` столбец `seconds_assign`, показывающий время выполнения рецепта в секундах. Выполните задание при помощи присваивания массива значений диапазону ячеек."
   ]
  },
  {
   "cell_type": "code",
   "execution_count": 101,
   "metadata": {},
   "outputs": [
    {
     "name": "stdout",
     "output_type": "stream",
     "text": [
      "          minutes  seconds_assign\n",
      "id                               \n",
      "97996.0      30.0          1800.0\n",
      "490784.0    250.0         15000.0\n",
      "287868.0    110.0          6600.0\n",
      "411505.0    120.0          7200.0\n",
      "111720.0    140.0          8400.0\n",
      "...           ...             ...\n",
      "227691.0     50.0          3000.0\n",
      "48494.0      45.0          2700.0\n",
      "154364.0     30.0          1800.0\n",
      "190812.0    120.0          7200.0\n",
      "495291.0     70.0          4200.0\n",
      "\n",
      "[1500 rows x 2 columns]\n"
     ]
    }
   ],
   "source": [
    "import xlwings as xw\n",
    "\n",
    "# Загрузка данных из файла\n",
    "wb = xw.Book('recipes.xlsx')\n",
    "recipes_sheet = wb.sheets['Рецепты']\n",
    "recipes_df = recipes_sheet.used_range.options(pd.DataFrame, header=1).value\n",
    "\n",
    "\n",
    "# Рассчет времени выполнения рецепта в секундах\n",
    "recipes_df['seconds_assign'] = recipes_df['minutes'] * 60\n",
    "\n",
    "# Добавление столбца seconds_assign на лист Рецепты при помощи присваивания массива значений\n",
    "recipes_sheet.range((1, recipes_df.shape[1] + 1)).value = [['seconds_assign']] + recipes_df['seconds_assign'].values.reshape(-1, 1).tolist()\n",
    "\n",
    "# Сохранение изменений в файле\n",
    "wb.save()\n",
    "\n",
    "# Вывод на экран результатов изменений\n",
    "print(recipes_df[['minutes','seconds_assign']])"
   ]
  },
  {
   "cell_type": "markdown",
   "metadata": {},
   "source": [
    "4. Используя `xlwings`, добавьте на лист `Рецепты` столбец `seconds_formula`, показывающий время выполнения рецепта в секундах. Выполните задание при помощи формул Excel."
   ]
  },
  {
   "cell_type": "code",
   "execution_count": 102,
   "metadata": {},
   "outputs": [
    {
     "name": "stdout",
     "output_type": "stream",
     "text": [
      "                seconds_formula\n",
      "seconds_assign                 \n",
      "1800.0                   1800.0\n",
      "15000.0                 15000.0\n",
      "6600.0                   6600.0\n",
      "7200.0                   7200.0\n",
      "8400.0                   8400.0\n"
     ]
    }
   ],
   "source": [
    "wb = xw.Book('recipes.xlsx')\n",
    "recipes_sheet = wb.sheets['Рецепты']\n",
    "\n",
    "# Добавление формулы в ячейку F1\n",
    "recipes_sheet.range('J1').value = 'seconds_formula'\n",
    "recipes_sheet.range('J2:J1501').formula = '=C2*60'  # применение формулы для всего столбца\n",
    "\n",
    "# Сохранение изменений в файле\n",
    "wb.save()\n",
    "\n",
    "# Вывод на экран результатов изменений\n",
    "print(recipes_sheet.range('I1:J6').options(pd.DataFrame, header=1).value)"
   ]
  },
  {
   "cell_type": "raw",
   "metadata": {},
   "source": [
    "# 5. Сделайте названия всех добавленных столбцов полужирными и выровняйте по центру ячейки."
   ]
  },
  {
   "cell_type": "markdown",
   "metadata": {},
   "source": [
    "6. Раскрасьте ячейки столбца `minutes` в соответствии со следующим правилом: если рецепт выполняется быстрее 5 минут, то цвет - зеленый; от 5 до 10 минут - жёлтый; и больше 10 - красный."
   ]
  },
  {
   "cell_type": "code",
   "execution_count": 103,
   "metadata": {},
   "outputs": [],
   "source": [
    "import xlwings as xw\n",
    "\n",
    "# Определение цветов для раскраски\n",
    "green = (0, 255, 0)\n",
    "yellow = (255, 255, 0)\n",
    "red = (255, 0, 0)\n",
    "\n",
    "# Получение столбца минут\n",
    "minutes_range = recipes_sheet.range('C2:C1501')\n",
    "\n",
    "# Применение условного форматирования\n",
    "for cell in minutes_range:\n",
    "    minutes = cell.value\n",
    "    if minutes < 5:\n",
    "        color = green\n",
    "    elif minutes < 10:\n",
    "        color = yellow\n",
    "    else:\n",
    "        color = red\n",
    "    cell.color = color\n",
    "\n",
    "# Сохранение изменений в файле\n",
    "wb.save()"
   ]
  },
  {
   "cell_type": "markdown",
   "metadata": {},
   "source": [
    "7. Добавьте на лист `Рецепты`  столбец `n_reviews`, содержащий кол-во отзывов для этого рецепта. Выполните задание при помощи формул Excel."
   ]
  },
  {
   "cell_type": "code",
   "execution_count": 105,
   "metadata": {},
   "outputs": [],
   "source": [
    "# В данной задаче я ищу кол-во отзывов не в общем, а из рандомно взятых отзывов, помещенных на лист Отзывы\n",
    "\n",
    "# Добавление заголовка для нового столбца\n",
    "recipes_sheet.range('K1').value = 'n_reviews'\n",
    "\n",
    "# Добавление формулы в столбец F для каждой строки с рецептом\n",
    "for i in range(2, 1502):\n",
    "    recipe_id = recipes_sheet.range('A' + str(i)).value\n",
    "    formula = '=COUNTIF(Отзывы!C:C, A{})'.format(i)\n",
    "    recipes_sheet.range('K' + str(i)).formula = formula\n",
    "\n",
    "# Сохранение изменений в файле\n",
    "wb.save()"
   ]
  },
  {
   "cell_type": "markdown",
   "metadata": {},
   "source": [
    "## Лабораторная работа 7.2"
   ]
  },
  {
   "cell_type": "markdown",
   "metadata": {},
   "source": [
    "8. Напишите функцию `validate()`, которая проверяет соответствие всех строк из листа `Отзывы` следующим правилам:\n",
    "    * Рейтинг - это число от 0 до 5 включительно\n",
    "    * Соответствующий рецепт имеется на листе `Рецепты`\n",
    "    \n",
    "В случае несоответствия этим правилам, выделите строку красным цветом"
   ]
  },
  {
   "cell_type": "code",
   "execution_count": 108,
   "metadata": {},
   "outputs": [],
   "source": [
    "def validate():\n",
    "    # Открываем файл и выбираем листы\n",
    "    wb = xw.Book('recipes.xlsx')\n",
    "    reviews_sheet = wb.sheets['Отзывы']\n",
    "    recipes_sheet = wb.sheets['Рецепты']\n",
    "\n",
    "    # Проверяем каждую строку\n",
    "    for i in range(2, reviews_sheet.range('A1').current_region.last_cell.row):\n",
    "        rating = reviews_sheet.range(f'E{i}').value\n",
    "        recipe_id = reviews_sheet.range(f'C{i}').value\n",
    "\n",
    "        # Проверяем рейтинг\n",
    "        if rating is None or not isinstance(rating, (int, float)) or rating < 0 or rating > 5:\n",
    "            reviews_sheet.range(f'A{i}:F{i}').color = (255, 0, 0)  # Выделяем строку красным цветом\n",
    "            continue\n",
    "\n",
    "        # Проверяем, есть ли рецепт с таким id\n",
    "        if recipe_id not in recipes_sheet.range('A2:A1501').value:\n",
    "            reviews_sheet.range(f'A{i}:F{i}').color = (255, 0, 0)  # Выделяем строку красным цветом\n",
    "            continue\n",
    "\n",
    "    # Сохраняем изменения\n",
    "    wb.save()\n",
    "\n",
    "validate()"
   ]
  },
  {
   "cell_type": "markdown",
   "metadata": {},
   "source": [
    "9. В файле `recipes_model.csv` находится модель данных предметной области \"рецепты\". При помощи пакета `csv` считайте эти данные. При помощи пакета `xlwings` запишите данные на лист `Модель` книги `recipes_model.xlsx`, начиная с ячейки `A2`, не используя циклы. Сделайте скриншот текущего состояния листа и прикрепите в ячейку ноутбука. "
   ]
  },
  {
   "cell_type": "code",
   "execution_count": 130,
   "metadata": {},
   "outputs": [],
   "source": [
    "import csv\n",
    "import xlwings as xw\n",
    "\n",
    "# Считываем данные из csv-файла\n",
    "with open('recipes_model.csv', 'r', encoding='utf-8') as file:\n",
    "    reader = csv.reader(file, delimiter=\"\\t\")\n",
    "    data = list(reader)\n",
    "\n",
    "# Создаем новую книгу в Excel\n",
    "wb = xw.Book()\n",
    "ws = wb.sheets.add('Модель')\n",
    "\n",
    "# Записываем данные на лист Модель\n",
    "ws.range('A2:I18').value = data\n",
    "\n",
    "# Сохраняем книгу\n",
    "wb.save('recipes_model.xlsx')"
   ]
  },
  {
   "cell_type": "markdown",
   "metadata": {},
   "source": [
    "![](LR4_9.png)"
   ]
  },
  {
   "cell_type": "markdown",
   "metadata": {},
   "source": [
    "10. При помощи пакета `xlwings` добавьте в столбец J формулу для описания столбца на языке SQL. Формула должна реализовывать следующую логику:\n",
    "\n",
    "    1\\. в начале строки идут значения из столбцов В и C (значение столбца С приведено к верхнему регистру), разделенные пробелом\n",
    "    \n",
    "    2\\. далее идут слова на основе столбца \"Ключ\"\n",
    "        2.1 если в столбце \"Ключ\" указано значение \"PK\", то дальше через пробел идет ключевое слово \"PRIMARY KEY\"\n",
    "        2.2 если в столбце \"Ключ\" указано значение \"FK\", то дальше через пробел идет ключевое слово \"REFERENCES\", затем значения столбцов H и I в формате \"название_таблицы(название_столбца)\"\n",
    "        \n",
    "    3\\. если в столбце \"Обязательно к заполнению\" указано значение \"Y\" и в столбце \"Ключ\" указано не \"PK\", то дальше через пробел идет ключевое слово \"NOT NULL\".\n",
    "\n",
    "Заполните этой формулой необходимое количество строк, используя \"протягивание\". Количество строк для протягивания определите на основе данных.\n",
    "\n",
    "Сделайте скриншот текущего состояния листа и прикрепите в ячейку ноутбука."
   ]
  },
  {
   "cell_type": "markdown",
   "metadata": {},
   "source": [
    "11. При помощи пакета `xlwings` измените стилизацию листа `Модель`.\n",
    "* для заголовков добавьте заливку цвета `00ccff`\n",
    "* примените автоподбор ширины столбца;\n",
    "* сделайте шрифт заголовков полужирным;\n",
    "* добавьте таблице автофильтр.\n",
    "\n",
    "Сделайте скриншот текущего состояния листа и прикрепите в ячейку ноутбука."
   ]
  },
  {
   "cell_type": "code",
   "execution_count": 151,
   "metadata": {},
   "outputs": [],
   "source": [
    "import xlwings as xw\n",
    "\n",
    "# Загрузка данных из файла\n",
    "wb = xw.Book('recipes_model.xlsx')\n",
    "model_sheet = wb.sheets['Модель']\n",
    "\n",
    "# Заливка цвета для заголовков \n",
    "model_sheet.range('A2:I2').color = ('00ccff')\n",
    "\n",
    "# Применение автоподбора ширины столбца\n",
    "model_sheet.autofit(axis=\"columns\")\n",
    "\n",
    "# Шрифт заголовков полужирный\n",
    "model_sheet.range('A2:I2').font.bold = True\n",
    "\n",
    "# Добавление таблице автофильтра\n",
    "model_sheet.show_autofilter = True\n",
    "\n",
    "# Сохранение изменений в файле\n",
    "wb.save()"
   ]
  },
  {
   "cell_type": "markdown",
   "metadata": {},
   "source": [
    "![](LR4_11.png)"
   ]
  },
  {
   "cell_type": "markdown",
   "metadata": {},
   "source": [
    "12. Посчитайте количество атрибутов для каждой из сущностей. Создайте лист `Статистика` и запишите в него результат группировки, начиная с ячейки \"А1\". Визуализируйте полученный результат при помощи столбчатой диаграммы. Сохраните полученную визуализацию на лист `Статистика`, начиная с ячейки \"E2\".  Сделайте скриншот листа `Статистика` и прикрепите в ячейку ноутбука.\n",
    "\n",
    "* Вы можете воспользоваться методами для визуализации, которые поставляются вместе с объектами `pandas` (см. https://pandas.pydata.org/docs/reference/api/pandas.DataFrame.plot) "
   ]
  }
 ],
 "metadata": {
  "kernelspec": {
   "display_name": "Python 3 (ipykernel)",
   "language": "python",
   "name": "python3"
  },
  "language_info": {
   "codemirror_mode": {
    "name": "ipython",
    "version": 3
   },
   "file_extension": ".py",
   "mimetype": "text/x-python",
   "name": "python",
   "nbconvert_exporter": "python",
   "pygments_lexer": "ipython3",
   "version": "3.9.12"
  }
 },
 "nbformat": 4,
 "nbformat_minor": 4
}
